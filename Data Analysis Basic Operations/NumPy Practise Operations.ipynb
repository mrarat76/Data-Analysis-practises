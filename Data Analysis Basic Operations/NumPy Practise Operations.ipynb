{
 "cells": [
  {
   "cell_type": "markdown",
   "id": "d72443cb",
   "metadata": {},
   "source": [
    "import numpy as np"
   ]
  },
  {
   "cell_type": "code",
   "execution_count": 6,
   "id": "923711ad",
   "metadata": {},
   "outputs": [],
   "source": [
    "benimDizim=np.arange(0,15)"
   ]
  },
  {
   "cell_type": "code",
   "execution_count": 7,
   "id": "4be3abf3",
   "metadata": {},
   "outputs": [
    {
     "data": {
      "text/plain": [
       "array([ 0,  1,  2,  3,  4,  5,  6,  7,  8,  9, 10, 11, 12, 13, 14])"
      ]
     },
     "execution_count": 7,
     "metadata": {},
     "output_type": "execute_result"
    }
   ],
   "source": [
    "benimDizim"
   ]
  },
  {
   "cell_type": "code",
   "execution_count": 8,
   "id": "d5fd6090",
   "metadata": {},
   "outputs": [
    {
     "data": {
      "text/plain": [
       "5"
      ]
     },
     "execution_count": 8,
     "metadata": {},
     "output_type": "execute_result"
    }
   ],
   "source": [
    "benimDizim[5]"
   ]
  },
  {
   "cell_type": "code",
   "execution_count": 10,
   "id": "63f67c71",
   "metadata": {},
   "outputs": [
    {
     "data": {
      "text/plain": [
       "array([3, 4])"
      ]
     },
     "execution_count": 10,
     "metadata": {},
     "output_type": "execute_result"
    }
   ],
   "source": [
    "benimDizim[3:5]"
   ]
  },
  {
   "cell_type": "code",
   "execution_count": 11,
   "id": "51fcc3e3",
   "metadata": {},
   "outputs": [],
   "source": [
    "benimDizim[3:8] = -5"
   ]
  },
  {
   "cell_type": "code",
   "execution_count": 12,
   "id": "8a186033",
   "metadata": {},
   "outputs": [
    {
     "data": {
      "text/plain": [
       "array([ 0,  1,  2, -5, -5, -5, -5, -5,  8,  9, 10, 11, 12, 13, 14])"
      ]
     },
     "execution_count": 12,
     "metadata": {},
     "output_type": "execute_result"
    }
   ],
   "source": [
    "benimDizim"
   ]
  },
  {
   "cell_type": "code",
   "execution_count": 13,
   "id": "dd8d1ed9",
   "metadata": {},
   "outputs": [],
   "source": [
    "baskaDizi= np.arange(0,24)"
   ]
  },
  {
   "cell_type": "code",
   "execution_count": 14,
   "id": "ba147c63",
   "metadata": {},
   "outputs": [
    {
     "data": {
      "text/plain": [
       "array([ 0,  1,  2,  3,  4,  5,  6,  7,  8,  9, 10, 11, 12, 13, 14, 15, 16,\n",
       "       17, 18, 19, 20, 21, 22, 23])"
      ]
     },
     "execution_count": 14,
     "metadata": {},
     "output_type": "execute_result"
    }
   ],
   "source": [
    "baskaDizi"
   ]
  },
  {
   "cell_type": "code",
   "execution_count": 18,
   "id": "a7853c39",
   "metadata": {},
   "outputs": [],
   "source": [
    "slicingDizisi = baskaDizi [4:9]"
   ]
  },
  {
   "cell_type": "code",
   "execution_count": 19,
   "id": "c9a87981",
   "metadata": {},
   "outputs": [
    {
     "data": {
      "text/plain": [
       "array([4, 5, 6, 7, 8])"
      ]
     },
     "execution_count": 19,
     "metadata": {},
     "output_type": "execute_result"
    }
   ],
   "source": [
    "slicingDizisi"
   ]
  },
  {
   "cell_type": "code",
   "execution_count": 20,
   "id": "7b431960",
   "metadata": {},
   "outputs": [
    {
     "data": {
      "text/plain": [
       "array([ 0,  1,  2,  3,  4,  5,  6,  7,  8,  9, 10, 11, 12, 13, 14, 15, 16,\n",
       "       17, 18, 19, 20, 21, 22, 23])"
      ]
     },
     "execution_count": 20,
     "metadata": {},
     "output_type": "execute_result"
    }
   ],
   "source": [
    "baskaDizi"
   ]
  },
  {
   "cell_type": "code",
   "execution_count": 21,
   "id": "98a39d2b",
   "metadata": {},
   "outputs": [],
   "source": [
    "slicingDizisi [:] =700"
   ]
  },
  {
   "cell_type": "code",
   "execution_count": 22,
   "id": "4a3ebcf5",
   "metadata": {},
   "outputs": [
    {
     "data": {
      "text/plain": [
       "array([700, 700, 700, 700, 700])"
      ]
     },
     "execution_count": 22,
     "metadata": {},
     "output_type": "execute_result"
    }
   ],
   "source": [
    "slicingDizisi"
   ]
  },
  {
   "cell_type": "code",
   "execution_count": 23,
   "id": "0fe2a584",
   "metadata": {},
   "outputs": [
    {
     "data": {
      "text/plain": [
       "array([  0,   1,   2,   3, 700, 700, 700, 700, 700,   9,  10,  11,  12,\n",
       "        13,  14,  15,  16,  17,  18,  19,  20,  21,  22,  23])"
      ]
     },
     "execution_count": 23,
     "metadata": {},
     "output_type": "execute_result"
    }
   ],
   "source": [
    "baskaDizi"
   ]
  },
  {
   "cell_type": "code",
   "execution_count": 25,
   "id": "e1f98e92",
   "metadata": {},
   "outputs": [],
   "source": [
    "ornekDizi= np.arange(0,24)"
   ]
  },
  {
   "cell_type": "code",
   "execution_count": 26,
   "id": "06912a3b",
   "metadata": {},
   "outputs": [],
   "source": [
    "ornekDizicopy= ornekDizi.copy()"
   ]
  },
  {
   "cell_type": "code",
   "execution_count": 27,
   "id": "f3d0f097",
   "metadata": {},
   "outputs": [
    {
     "data": {
      "text/plain": [
       "array([ 0,  1,  2,  3,  4,  5,  6,  7,  8,  9, 10, 11, 12, 13, 14, 15, 16,\n",
       "       17, 18, 19, 20, 21, 22, 23])"
      ]
     },
     "execution_count": 27,
     "metadata": {},
     "output_type": "execute_result"
    }
   ],
   "source": [
    "ornekDizicopy"
   ]
  },
  {
   "cell_type": "code",
   "execution_count": 28,
   "id": "ab530e74",
   "metadata": {},
   "outputs": [],
   "source": [
    "ornekDizicopySlicing=ornekDizicopy[3:6]"
   ]
  },
  {
   "cell_type": "code",
   "execution_count": 29,
   "id": "11211053",
   "metadata": {},
   "outputs": [
    {
     "data": {
      "text/plain": [
       "array([ 0,  1,  2,  3,  4,  5,  6,  7,  8,  9, 10, 11, 12, 13, 14, 15, 16,\n",
       "       17, 18, 19, 20, 21, 22, 23])"
      ]
     },
     "execution_count": 29,
     "metadata": {},
     "output_type": "execute_result"
    }
   ],
   "source": [
    "ornekDizi"
   ]
  },
  {
   "cell_type": "markdown",
   "id": "29bbfe3f",
   "metadata": {},
   "source": [
    "## matrix"
   ]
  },
  {
   "cell_type": "code",
   "execution_count": 34,
   "id": "6b99dd43",
   "metadata": {},
   "outputs": [],
   "source": [
    "ornekMatrixDizisi =np.array(ornekDizi)"
   ]
  },
  {
   "cell_type": "code",
   "execution_count": 43,
   "id": "dd2ddd61",
   "metadata": {},
   "outputs": [],
   "source": [
    "ornek= ornekMatrixDizisi.reshape(6,4)"
   ]
  },
  {
   "cell_type": "code",
   "execution_count": 45,
   "id": "7dcd33b7",
   "metadata": {},
   "outputs": [
    {
     "data": {
      "text/plain": [
       "array([ 6, 10, 14, 18, 22])"
      ]
     },
     "execution_count": 45,
     "metadata": {},
     "output_type": "execute_result"
    }
   ],
   "source": [
    "ornek[1:,2]\n",
    "##1. indexin içindeki 2. indexten itibaren her indexin 2. indexini tek arraye topşlar"
   ]
  },
  {
   "cell_type": "code",
   "execution_count": 44,
   "id": "57c77204",
   "metadata": {},
   "outputs": [
    {
     "data": {
      "text/plain": [
       "array([[ 0,  1,  2,  3],\n",
       "       [ 4,  5,  6,  7],\n",
       "       [ 8,  9, 10, 11],\n",
       "       [12, 13, 14, 15],\n",
       "       [16, 17, 18, 19],\n",
       "       [20, 21, 22, 23]])"
      ]
     },
     "execution_count": 44,
     "metadata": {},
     "output_type": "execute_result"
    }
   ],
   "source": [
    "ornek"
   ]
  },
  {
   "cell_type": "code",
   "execution_count": 46,
   "id": "9cbd2ed0",
   "metadata": {},
   "outputs": [
    {
     "data": {
      "text/plain": [
       "array([10, 14, 18, 22])"
      ]
     },
     "execution_count": 46,
     "metadata": {},
     "output_type": "execute_result"
    }
   ],
   "source": [
    "ornek[2:,2]"
   ]
  },
  {
   "cell_type": "code",
   "execution_count": 47,
   "id": "d76746f9",
   "metadata": {},
   "outputs": [
    {
     "data": {
      "text/plain": [
       "array([14, 18, 22])"
      ]
     },
     "execution_count": 47,
     "metadata": {},
     "output_type": "execute_result"
    }
   ],
   "source": [
    "ornek[3:,2]"
   ]
  },
  {
   "cell_type": "code",
   "execution_count": 49,
   "id": "a04b5dc6",
   "metadata": {},
   "outputs": [
    {
     "data": {
      "text/plain": [
       "array([11, 15, 19, 23])"
      ]
     },
     "execution_count": 49,
     "metadata": {},
     "output_type": "execute_result"
    }
   ],
   "source": [
    "ornek[2:, 3]"
   ]
  },
  {
   "cell_type": "code",
   "execution_count": 50,
   "id": "9b2d8a35",
   "metadata": {},
   "outputs": [],
   "source": [
    "yeniListe =np.arange(0,27)"
   ]
  },
  {
   "cell_type": "code",
   "execution_count": 51,
   "id": "1b09637d",
   "metadata": {},
   "outputs": [],
   "source": [
    "yeniliste = np.array(yeniListe)"
   ]
  },
  {
   "cell_type": "code",
   "execution_count": 52,
   "id": "f0f6d2fb",
   "metadata": {},
   "outputs": [],
   "source": [
    "yeni= yeniliste.reshape(9,3)"
   ]
  },
  {
   "cell_type": "code",
   "execution_count": 53,
   "id": "99d01988",
   "metadata": {},
   "outputs": [
    {
     "data": {
      "text/plain": [
       "array([[12, 13, 14],\n",
       "       [ 6,  7,  8],\n",
       "       [ 0,  1,  2]])"
      ]
     },
     "execution_count": 53,
     "metadata": {},
     "output_type": "execute_result"
    }
   ],
   "source": [
    "yeni[[4,2,0]]\n",
    "## listedeki indexlere göre matris oluşturur"
   ]
  },
  {
   "cell_type": "code",
   "execution_count": 54,
   "id": "d81bb16e",
   "metadata": {},
   "outputs": [
    {
     "data": {
      "text/plain": [
       "array([[ 0,  1,  2],\n",
       "       [ 3,  4,  5],\n",
       "       [ 6,  7,  8],\n",
       "       [ 9, 10, 11],\n",
       "       [12, 13, 14],\n",
       "       [15, 16, 17],\n",
       "       [18, 19, 20],\n",
       "       [21, 22, 23],\n",
       "       [24, 25, 26]])"
      ]
     },
     "execution_count": 54,
     "metadata": {},
     "output_type": "execute_result"
    }
   ],
   "source": [
    "yeni"
   ]
  },
  {
   "cell_type": "markdown",
   "id": "714f02ea",
   "metadata": {},
   "source": [
    "## Operasyonlar"
   ]
  },
  {
   "cell_type": "code",
   "execution_count": 58,
   "id": "7c9f93f6",
   "metadata": {},
   "outputs": [],
   "source": [
    "yeniBirDizi =np.random.randint(1,100,20)"
   ]
  },
  {
   "cell_type": "code",
   "execution_count": 59,
   "id": "a604ab99",
   "metadata": {},
   "outputs": [
    {
     "data": {
      "text/plain": [
       "array([ 5, 50, 72, 15, 51,  4, 93, 46, 34, 81,  8, 31, 86, 44, 29, 25, 54,\n",
       "       63, 15, 59])"
      ]
     },
     "execution_count": 59,
     "metadata": {},
     "output_type": "execute_result"
    }
   ],
   "source": [
    "yeniBirDizi"
   ]
  },
  {
   "cell_type": "code",
   "execution_count": 61,
   "id": "756fb06d",
   "metadata": {},
   "outputs": [
    {
     "data": {
      "text/plain": [
       "array([False,  True,  True, False,  True, False,  True,  True,  True,\n",
       "        True, False,  True,  True,  True,  True,  True,  True,  True,\n",
       "       False,  True])"
      ]
     },
     "execution_count": 61,
     "metadata": {},
     "output_type": "execute_result"
    }
   ],
   "source": [
    "yeniBirDizi > 24"
   ]
  },
  {
   "cell_type": "code",
   "execution_count": 62,
   "id": "73e98e02",
   "metadata": {},
   "outputs": [],
   "source": [
    "sonuc= yeniBirDizi > 24"
   ]
  },
  {
   "cell_type": "code",
   "execution_count": 63,
   "id": "c99a993f",
   "metadata": {},
   "outputs": [
    {
     "data": {
      "text/plain": [
       "array([False,  True,  True, False,  True, False,  True,  True,  True,\n",
       "        True, False,  True,  True,  True,  True,  True,  True,  True,\n",
       "       False,  True])"
      ]
     },
     "execution_count": 63,
     "metadata": {},
     "output_type": "execute_result"
    }
   ],
   "source": [
    "sonuc"
   ]
  },
  {
   "cell_type": "code",
   "execution_count": 64,
   "id": "80a49d29",
   "metadata": {},
   "outputs": [
    {
     "data": {
      "text/plain": [
       "array([50, 72, 51, 93, 46, 34, 81, 31, 86, 44, 29, 25, 54, 63, 59])"
      ]
     },
     "execution_count": 64,
     "metadata": {},
     "output_type": "execute_result"
    }
   ],
   "source": [
    "yeniBirDizi[sonuc]"
   ]
  },
  {
   "cell_type": "code",
   "execution_count": 65,
   "id": "e88744a5",
   "metadata": {},
   "outputs": [],
   "source": [
    "sonDizi= np.arange (0,24)"
   ]
  },
  {
   "cell_type": "code",
   "execution_count": 66,
   "id": "45eb8194",
   "metadata": {},
   "outputs": [
    {
     "data": {
      "text/plain": [
       "array([ 0,  1,  2,  3,  4,  5,  6,  7,  8,  9, 10, 11, 12, 13, 14, 15, 16,\n",
       "       17, 18, 19, 20, 21, 22, 23])"
      ]
     },
     "execution_count": 66,
     "metadata": {},
     "output_type": "execute_result"
    }
   ],
   "source": [
    "sonDizi"
   ]
  },
  {
   "cell_type": "code",
   "execution_count": 67,
   "id": "59d55585",
   "metadata": {},
   "outputs": [
    {
     "data": {
      "text/plain": [
       "array([ 0,  2,  4,  6,  8, 10, 12, 14, 16, 18, 20, 22, 24, 26, 28, 30, 32,\n",
       "       34, 36, 38, 40, 42, 44, 46])"
      ]
     },
     "execution_count": 67,
     "metadata": {},
     "output_type": "execute_result"
    }
   ],
   "source": [
    "sonDizi+sonDizi"
   ]
  },
  {
   "cell_type": "code",
   "execution_count": 68,
   "id": "18d3daca",
   "metadata": {},
   "outputs": [
    {
     "data": {
      "text/plain": [
       "array([  0,   1,   4,   9,  16,  25,  36,  49,  64,  81, 100, 121, 144,\n",
       "       169, 196, 225, 256, 289, 324, 361, 400, 441, 484, 529])"
      ]
     },
     "execution_count": 68,
     "metadata": {},
     "output_type": "execute_result"
    }
   ],
   "source": [
    "sonDizi * sonDizi"
   ]
  },
  {
   "cell_type": "code",
   "execution_count": 69,
   "id": "25f6c7bf",
   "metadata": {},
   "outputs": [
    {
     "data": {
      "text/plain": [
       "array([0, 0, 0, 0, 0, 0, 0, 0, 0, 0, 0, 0, 0, 0, 0, 0, 0, 0, 0, 0, 0, 0,\n",
       "       0, 0])"
      ]
     },
     "execution_count": 69,
     "metadata": {},
     "output_type": "execute_result"
    }
   ],
   "source": [
    "sonDizi - sonDizi"
   ]
  },
  {
   "cell_type": "code",
   "execution_count": 71,
   "id": "fa77a645",
   "metadata": {},
   "outputs": [
    {
     "name": "stderr",
     "output_type": "stream",
     "text": [
      "C:\\Users\\Monster\\AppData\\Local\\Temp\\ipykernel_15600\\1312094733.py:1: RuntimeWarning: invalid value encountered in divide\n",
      "  sonDizi / sonDizi\n"
     ]
    },
    {
     "data": {
      "text/plain": [
       "array([nan,  1.,  1.,  1.,  1.,  1.,  1.,  1.,  1.,  1.,  1.,  1.,  1.,\n",
       "        1.,  1.,  1.,  1.,  1.,  1.,  1.,  1.,  1.,  1.,  1.])"
      ]
     },
     "execution_count": 71,
     "metadata": {},
     "output_type": "execute_result"
    }
   ],
   "source": [
    "sonDizi / sonDizi\n",
    "\n",
    "# 0 0a bölünmeyeceği için uyarı verdi."
   ]
  },
  {
   "cell_type": "code",
   "execution_count": 72,
   "id": "101eeebe",
   "metadata": {},
   "outputs": [
    {
     "data": {
      "text/plain": [
       "array([0.        , 1.        , 1.41421356, 1.73205081, 2.        ,\n",
       "       2.23606798, 2.44948974, 2.64575131, 2.82842712, 3.        ,\n",
       "       3.16227766, 3.31662479, 3.46410162, 3.60555128, 3.74165739,\n",
       "       3.87298335, 4.        , 4.12310563, 4.24264069, 4.35889894,\n",
       "       4.47213595, 4.58257569, 4.69041576, 4.79583152])"
      ]
     },
     "execution_count": 72,
     "metadata": {},
     "output_type": "execute_result"
    }
   ],
   "source": [
    "np.sqrt (sonDizi)"
   ]
  },
  {
   "cell_type": "code",
   "execution_count": 73,
   "id": "07a06147",
   "metadata": {},
   "outputs": [
    {
     "data": {
      "text/plain": [
       "23"
      ]
     },
     "execution_count": 73,
     "metadata": {},
     "output_type": "execute_result"
    }
   ],
   "source": [
    "np.max(sonDizi)"
   ]
  },
  {
   "cell_type": "code",
   "execution_count": 74,
   "id": "f60f9c03",
   "metadata": {},
   "outputs": [
    {
     "data": {
      "text/plain": [
       "0"
      ]
     },
     "execution_count": 74,
     "metadata": {},
     "output_type": "execute_result"
    }
   ],
   "source": [
    "np.min(sonDizi)"
   ]
  },
  {
   "cell_type": "code",
   "execution_count": null,
   "id": "6b263b6e",
   "metadata": {},
   "outputs": [],
   "source": []
  }
 ],
 "metadata": {
  "kernelspec": {
   "display_name": "Python 3 (ipykernel)",
   "language": "python",
   "name": "python3"
  },
  "language_info": {
   "codemirror_mode": {
    "name": "ipython",
    "version": 3
   },
   "file_extension": ".py",
   "mimetype": "text/x-python",
   "name": "python",
   "nbconvert_exporter": "python",
   "pygments_lexer": "ipython3",
   "version": "3.11.3"
  }
 },
 "nbformat": 4,
 "nbformat_minor": 5
}
