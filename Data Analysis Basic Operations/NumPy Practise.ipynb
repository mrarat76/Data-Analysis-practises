{
 "cells": [
  {
   "cell_type": "code",
   "execution_count": 1,
   "id": "48be3e5f",
   "metadata": {},
   "outputs": [],
   "source": [
    "import numpy as np"
   ]
  },
  {
   "cell_type": "code",
   "execution_count": 2,
   "id": "2ff35363",
   "metadata": {},
   "outputs": [],
   "source": [
    "## Numpy arrays"
   ]
  },
  {
   "cell_type": "code",
   "execution_count": 3,
   "id": "832c1562",
   "metadata": {},
   "outputs": [],
   "source": [
    "bemimListem =[20,30,40]"
   ]
  },
  {
   "cell_type": "code",
   "execution_count": 5,
   "id": "c66f5310",
   "metadata": {},
   "outputs": [
    {
     "data": {
      "text/plain": [
       "list"
      ]
     },
     "execution_count": 5,
     "metadata": {},
     "output_type": "execute_result"
    }
   ],
   "source": [
    "type(bemimListem)"
   ]
  },
  {
   "cell_type": "code",
   "execution_count": 8,
   "id": "176b3f33",
   "metadata": {},
   "outputs": [
    {
     "data": {
      "text/plain": [
       "numpy.ndarray"
      ]
     },
     "execution_count": 8,
     "metadata": {},
     "output_type": "execute_result"
    }
   ],
   "source": [
    "np.array(bemimListem)"
   ]
  },
  {
   "cell_type": "code",
   "execution_count": 9,
   "id": "de130a9e",
   "metadata": {},
   "outputs": [],
   "source": [
    "matrixListesi= [[10,20,30], [20,30,40]]"
   ]
  },
  {
   "cell_type": "code",
   "execution_count": 11,
   "id": "7a1dbed9",
   "metadata": {},
   "outputs": [
    {
     "data": {
      "text/plain": [
       "10"
      ]
     },
     "execution_count": 11,
     "metadata": {},
     "output_type": "execute_result"
    }
   ],
   "source": [
    "matrixListesi [0][0]"
   ]
  },
  {
   "cell_type": "code",
   "execution_count": 12,
   "id": "00946132",
   "metadata": {},
   "outputs": [
    {
     "data": {
      "text/plain": [
       "array([[10, 20, 30],\n",
       "       [20, 30, 40]])"
      ]
     },
     "execution_count": 12,
     "metadata": {},
     "output_type": "execute_result"
    }
   ],
   "source": [
    "np.array(matrixListesi)"
   ]
  },
  {
   "cell_type": "code",
   "execution_count": 13,
   "id": "73d5edff",
   "metadata": {},
   "outputs": [],
   "source": [
    "## arange (sayı dizer)"
   ]
  },
  {
   "cell_type": "code",
   "execution_count": 14,
   "id": "c3852c72",
   "metadata": {},
   "outputs": [
    {
     "data": {
      "text/plain": [
       "array([0, 1, 2, 3, 4, 5, 6, 7, 8, 9])"
      ]
     },
     "execution_count": 14,
     "metadata": {},
     "output_type": "execute_result"
    }
   ],
   "source": [
    "np.arange(0,10)"
   ]
  },
  {
   "cell_type": "code",
   "execution_count": 15,
   "id": "a4ab1604",
   "metadata": {},
   "outputs": [
    {
     "data": {
      "text/plain": [
       "array([0, 2, 4, 6, 8])"
      ]
     },
     "execution_count": 15,
     "metadata": {},
     "output_type": "execute_result"
    }
   ],
   "source": [
    "np.arange(0,10,2)"
   ]
  },
  {
   "cell_type": "code",
   "execution_count": 16,
   "id": "34318856",
   "metadata": {},
   "outputs": [],
   "source": [
    "## zeros"
   ]
  },
  {
   "cell_type": "code",
   "execution_count": 17,
   "id": "a2ff99d9",
   "metadata": {},
   "outputs": [
    {
     "data": {
      "text/plain": [
       "array([0., 0., 0., 0., 0.])"
      ]
     },
     "execution_count": 17,
     "metadata": {},
     "output_type": "execute_result"
    }
   ],
   "source": [
    "np.zeros(5)"
   ]
  },
  {
   "cell_type": "code",
   "execution_count": 19,
   "id": "b65d1cde",
   "metadata": {},
   "outputs": [
    {
     "data": {
      "text/plain": [
       "array([[0., 0.],\n",
       "       [0., 0.]])"
      ]
     },
     "execution_count": 19,
     "metadata": {},
     "output_type": "execute_result"
    }
   ],
   "source": [
    "np.zeros((2,2))"
   ]
  },
  {
   "cell_type": "code",
   "execution_count": 20,
   "id": "c5bebb2f",
   "metadata": {},
   "outputs": [
    {
     "data": {
      "text/plain": [
       "array([1., 1., 1., 1., 1.])"
      ]
     },
     "execution_count": 20,
     "metadata": {},
     "output_type": "execute_result"
    }
   ],
   "source": [
    "np.ones(5)"
   ]
  },
  {
   "cell_type": "code",
   "execution_count": 21,
   "id": "8378c9ff",
   "metadata": {},
   "outputs": [
    {
     "data": {
      "text/plain": [
       "array([[1., 1., 1., 1., 1., 1., 1., 1., 1.],\n",
       "       [1., 1., 1., 1., 1., 1., 1., 1., 1.],\n",
       "       [1., 1., 1., 1., 1., 1., 1., 1., 1.],\n",
       "       [1., 1., 1., 1., 1., 1., 1., 1., 1.],\n",
       "       [1., 1., 1., 1., 1., 1., 1., 1., 1.],\n",
       "       [1., 1., 1., 1., 1., 1., 1., 1., 1.],\n",
       "       [1., 1., 1., 1., 1., 1., 1., 1., 1.],\n",
       "       [1., 1., 1., 1., 1., 1., 1., 1., 1.],\n",
       "       [1., 1., 1., 1., 1., 1., 1., 1., 1.]])"
      ]
     },
     "execution_count": 21,
     "metadata": {},
     "output_type": "execute_result"
    }
   ],
   "source": [
    "np.ones((9,9))"
   ]
  },
  {
   "cell_type": "code",
   "execution_count": 22,
   "id": "d635ed6d",
   "metadata": {},
   "outputs": [],
   "source": [
    "##linspace (eşit aralıklı sayılar oluşturur)"
   ]
  },
  {
   "cell_type": "code",
   "execution_count": 23,
   "id": "9b131fc0",
   "metadata": {},
   "outputs": [
    {
     "data": {
      "text/plain": [
       "array([ 0.,  5., 10., 15., 20.])"
      ]
     },
     "execution_count": 23,
     "metadata": {},
     "output_type": "execute_result"
    }
   ],
   "source": [
    "np.linspace(0,20,5)"
   ]
  },
  {
   "cell_type": "code",
   "execution_count": 24,
   "id": "f591074d",
   "metadata": {},
   "outputs": [
    {
     "data": {
      "text/plain": [
       "array([ 0.,  2.,  4.,  6.,  8., 10.])"
      ]
     },
     "execution_count": 24,
     "metadata": {},
     "output_type": "execute_result"
    }
   ],
   "source": [
    "np.linspace(0,10,6)"
   ]
  },
  {
   "cell_type": "code",
   "execution_count": 25,
   "id": "0dd0d777",
   "metadata": {},
   "outputs": [
    {
     "data": {
      "text/plain": [
       "array([ 0.        ,  0.34482759,  0.68965517,  1.03448276,  1.37931034,\n",
       "        1.72413793,  2.06896552,  2.4137931 ,  2.75862069,  3.10344828,\n",
       "        3.44827586,  3.79310345,  4.13793103,  4.48275862,  4.82758621,\n",
       "        5.17241379,  5.51724138,  5.86206897,  6.20689655,  6.55172414,\n",
       "        6.89655172,  7.24137931,  7.5862069 ,  7.93103448,  8.27586207,\n",
       "        8.62068966,  8.96551724,  9.31034483,  9.65517241, 10.        ])"
      ]
     },
     "execution_count": 25,
     "metadata": {},
     "output_type": "execute_result"
    }
   ],
   "source": [
    "np.linspace(0,10,30)"
   ]
  },
  {
   "cell_type": "code",
   "execution_count": 26,
   "id": "294ef945",
   "metadata": {},
   "outputs": [],
   "source": [
    "## eye (identitiy matrix oluşturur)"
   ]
  },
  {
   "cell_type": "code",
   "execution_count": 27,
   "id": "17cabde2",
   "metadata": {},
   "outputs": [
    {
     "data": {
      "text/plain": [
       "array([[1., 0., 0.],\n",
       "       [0., 1., 0.],\n",
       "       [0., 0., 1.]])"
      ]
     },
     "execution_count": 27,
     "metadata": {},
     "output_type": "execute_result"
    }
   ],
   "source": [
    "np.eye(3)"
   ]
  },
  {
   "cell_type": "code",
   "execution_count": 28,
   "id": "c85830e6",
   "metadata": {},
   "outputs": [],
   "source": [
    "## random kütüphanesi"
   ]
  },
  {
   "cell_type": "code",
   "execution_count": 29,
   "id": "2b01b64c",
   "metadata": {},
   "outputs": [
    {
     "data": {
      "text/plain": [
       "array([ 1.11304013, -0.11017587,  0.00312405, -0.17304892, -0.66736077,\n",
       "        2.04474271, -0.64897645,  0.72471544])"
      ]
     },
     "execution_count": 29,
     "metadata": {},
     "output_type": "execute_result"
    }
   ],
   "source": [
    "np.random.randn(8)"
   ]
  },
  {
   "cell_type": "code",
   "execution_count": 30,
   "id": "61845d48",
   "metadata": {},
   "outputs": [
    {
     "data": {
      "text/plain": [
       "array([[ 1.00557638, -1.10477267,  1.03871185, -0.65837529,  0.99647856,\n",
       "        -0.28426835, -0.46541683,  0.9889864 ],\n",
       "       [ 1.09096866,  0.18895846,  0.46633617, -0.79926043,  1.23625162,\n",
       "        -0.20502368,  2.7692567 , -1.5285886 ],\n",
       "       [-0.60153395, -1.47799678,  0.09658237, -1.05556156,  0.4582506 ,\n",
       "        -1.42830021, -1.4875017 ,  0.29239598],\n",
       "       [ 0.17385235,  1.76267608, -1.37986944, -0.41222193,  0.0490571 ,\n",
       "        -0.18258113, -0.90890858, -2.05907618],\n",
       "       [-0.95769462, -1.33054664, -0.66309473,  1.36568302, -0.28457309,\n",
       "         0.66672119,  0.46337529, -0.76427317],\n",
       "       [-1.04153763, -1.27969189, -0.59266025, -0.58933557,  0.14085403,\n",
       "        -1.13582831, -1.21268959, -0.10906309],\n",
       "       [ 0.52557036,  1.16691375, -0.5491848 , -0.25901679,  0.08024813,\n",
       "        -0.07004899, -0.25159581, -0.03731844],\n",
       "       [ 1.15155672,  1.72611582, -0.47930188,  0.69318154, -1.14511286,\n",
       "         0.97532483,  1.01788868, -1.88893276]])"
      ]
     },
     "execution_count": 30,
     "metadata": {},
     "output_type": "execute_result"
    }
   ],
   "source": [
    "np.random.randn(8,8)"
   ]
  },
  {
   "cell_type": "code",
   "execution_count": 34,
   "id": "95361648",
   "metadata": {},
   "outputs": [
    {
     "data": {
      "text/plain": [
       "3"
      ]
     },
     "execution_count": 34,
     "metadata": {},
     "output_type": "execute_result"
    }
   ],
   "source": [
    "np.random.randint(1,10)  \n",
    "#1 den 10a kadar herhangi bir sayıyı döndürür."
   ]
  },
  {
   "cell_type": "code",
   "execution_count": 40,
   "id": "b2255907",
   "metadata": {},
   "outputs": [
    {
     "data": {
      "text/plain": [
       "array([26, 20, 13, 27, 22])"
      ]
     },
     "execution_count": 40,
     "metadata": {},
     "output_type": "execute_result"
    }
   ],
   "source": [
    "np.random.randint(10,30,5)\n",
    "# 10 dan 30a kadar rastgele 5 sayı döndürür."
   ]
  },
  {
   "cell_type": "code",
   "execution_count": 37,
   "id": "0f5ab802",
   "metadata": {},
   "outputs": [],
   "source": [
    "benimNumoyDizim= np.arange(30)"
   ]
  },
  {
   "cell_type": "code",
   "execution_count": 38,
   "id": "e7797136",
   "metadata": {},
   "outputs": [
    {
     "data": {
      "text/plain": [
       "array([ 0,  1,  2,  3,  4,  5,  6,  7,  8,  9, 10, 11, 12, 13, 14, 15, 16,\n",
       "       17, 18, 19, 20, 21, 22, 23, 24, 25, 26, 27, 28, 29])"
      ]
     },
     "execution_count": 38,
     "metadata": {},
     "output_type": "execute_result"
    }
   ],
   "source": [
    "benimNumoyDizim"
   ]
  },
  {
   "cell_type": "markdown",
   "id": "df5d5215",
   "metadata": {},
   "source": [
    "## numpy dizi metotları\n"
   ]
  },
  {
   "cell_type": "code",
   "execution_count": 42,
   "id": "30d231db",
   "metadata": {},
   "outputs": [
    {
     "data": {
      "text/plain": [
       "array([[ 0,  1,  2,  3,  4,  5],\n",
       "       [ 6,  7,  8,  9, 10, 11],\n",
       "       [12, 13, 14, 15, 16, 17],\n",
       "       [18, 19, 20, 21, 22, 23],\n",
       "       [24, 25, 26, 27, 28, 29]])"
      ]
     },
     "execution_count": 42,
     "metadata": {},
     "output_type": "execute_result"
    }
   ],
   "source": [
    "benimNumoyDizim.reshape(5,6)\n",
    "## matrise çevirir"
   ]
  },
  {
   "cell_type": "code",
   "execution_count": 44,
   "id": "f2146b91",
   "metadata": {},
   "outputs": [
    {
     "data": {
      "text/plain": [
       "29"
      ]
     },
     "execution_count": 44,
     "metadata": {},
     "output_type": "execute_result"
    }
   ],
   "source": [
    "benimNumoyDizim.max()"
   ]
  },
  {
   "cell_type": "code",
   "execution_count": 45,
   "id": "96883559",
   "metadata": {},
   "outputs": [
    {
     "data": {
      "text/plain": [
       "0"
      ]
     },
     "execution_count": 45,
     "metadata": {},
     "output_type": "execute_result"
    }
   ],
   "source": [
    "benimNumoyDizim.min()"
   ]
  },
  {
   "cell_type": "code",
   "execution_count": 46,
   "id": "c5c4f49a",
   "metadata": {},
   "outputs": [
    {
     "data": {
      "text/plain": [
       "29"
      ]
     },
     "execution_count": 46,
     "metadata": {},
     "output_type": "execute_result"
    }
   ],
   "source": [
    "benimNumoyDizim.argmax()\n",
    "##maximum değerin hangi indexte bulunduğunu söyler"
   ]
  },
  {
   "cell_type": "code",
   "execution_count": 47,
   "id": "fbe404d2",
   "metadata": {},
   "outputs": [
    {
     "data": {
      "text/plain": [
       "0"
      ]
     },
     "execution_count": 47,
     "metadata": {},
     "output_type": "execute_result"
    }
   ],
   "source": [
    "benimNumoyDizim.argmin()"
   ]
  },
  {
   "cell_type": "code",
   "execution_count": 48,
   "id": "fdfe55f0",
   "metadata": {},
   "outputs": [
    {
     "data": {
      "text/plain": [
       "(30,)"
      ]
     },
     "execution_count": 48,
     "metadata": {},
     "output_type": "execute_result"
    }
   ],
   "source": [
    "benimNumoyDizim.shape"
   ]
  },
  {
   "cell_type": "code",
   "execution_count": 49,
   "id": "fc17117c",
   "metadata": {},
   "outputs": [],
   "source": [
    "reshapeDizim= benimNumoyDizim.reshape(5,6)"
   ]
  },
  {
   "cell_type": "code",
   "execution_count": 51,
   "id": "d6740924",
   "metadata": {},
   "outputs": [
    {
     "data": {
      "text/plain": [
       "(5, 6)"
      ]
     },
     "execution_count": 51,
     "metadata": {},
     "output_type": "execute_result"
    }
   ],
   "source": [
    "reshapeDizim.shape\n",
    "## dizinin şekli hakkında bilgi verir"
   ]
  },
  {
   "cell_type": "code",
   "execution_count": null,
   "id": "d36b2bba",
   "metadata": {},
   "outputs": [],
   "source": []
  }
 ],
 "metadata": {
  "kernelspec": {
   "display_name": "Python 3 (ipykernel)",
   "language": "python",
   "name": "python3"
  },
  "language_info": {
   "codemirror_mode": {
    "name": "ipython",
    "version": 3
   },
   "file_extension": ".py",
   "mimetype": "text/x-python",
   "name": "python",
   "nbconvert_exporter": "python",
   "pygments_lexer": "ipython3",
   "version": "3.11.3"
  }
 },
 "nbformat": 4,
 "nbformat_minor": 5
}
