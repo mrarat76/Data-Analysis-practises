{
 "cells": [
  {
   "cell_type": "code",
   "execution_count": 2,
   "id": "1833f6cc",
   "metadata": {},
   "outputs": [],
   "source": [
    "import numpy as np"
   ]
  },
  {
   "cell_type": "code",
   "execution_count": 3,
   "id": "7432450a",
   "metadata": {},
   "outputs": [],
   "source": [
    "import pandas as pd"
   ]
  },
  {
   "cell_type": "markdown",
   "id": "9ae4d5e6",
   "metadata": {},
   "source": [
    "## Seriler\n"
   ]
  },
  {
   "cell_type": "code",
   "execution_count": 4,
   "id": "66304891",
   "metadata": {},
   "outputs": [],
   "source": [
    "benimSozlugun = {\"Mehdi\" : 40, \"Zeynep\" : 100 , \"Mehmet\" : 30}"
   ]
  },
  {
   "cell_type": "code",
   "execution_count": 5,
   "id": "8567573f",
   "metadata": {},
   "outputs": [
    {
     "data": {
      "text/plain": [
       "Mehdi      40\n",
       "Zeynep    100\n",
       "Mehmet     30\n",
       "dtype: int64"
      ]
     },
     "execution_count": 5,
     "metadata": {},
     "output_type": "execute_result"
    }
   ],
   "source": [
    "pd.Series(benimSozlugun)"
   ]
  },
  {
   "cell_type": "code",
   "execution_count": 6,
   "id": "2ce5e34b",
   "metadata": {},
   "outputs": [],
   "source": [
    "benimYaslarim =[40,100,30]\n",
    "benimIsimlerim= [\"Mehdi\",\"Zeynep\" ,\"Mehmet\"]"
   ]
  },
  {
   "cell_type": "code",
   "execution_count": 7,
   "id": "d47ab9de",
   "metadata": {},
   "outputs": [
    {
     "data": {
      "text/plain": [
       "0     40\n",
       "1    100\n",
       "2     30\n",
       "dtype: int64"
      ]
     },
     "execution_count": 7,
     "metadata": {},
     "output_type": "execute_result"
    }
   ],
   "source": [
    "pd.Series(benimYaslarim)"
   ]
  },
  {
   "cell_type": "code",
   "execution_count": 8,
   "id": "63ffed77",
   "metadata": {},
   "outputs": [
    {
     "data": {
      "text/plain": [
       "Mehdi      40\n",
       "Zeynep    100\n",
       "Mehmet     30\n",
       "dtype: int64"
      ]
     },
     "execution_count": 8,
     "metadata": {},
     "output_type": "execute_result"
    }
   ],
   "source": [
    "pd.Series (benimYaslarim, benimIsimlerim)"
   ]
  },
  {
   "cell_type": "code",
   "execution_count": 9,
   "id": "e636ae36",
   "metadata": {},
   "outputs": [
    {
     "data": {
      "text/plain": [
       "Mehdi      40\n",
       "Zeynep    100\n",
       "Mehmet     30\n",
       "dtype: int64"
      ]
     },
     "execution_count": 9,
     "metadata": {},
     "output_type": "execute_result"
    }
   ],
   "source": [
    "pd.Series (data= benimYaslarim, index= benimIsimlerim)"
   ]
  },
  {
   "cell_type": "code",
   "execution_count": 10,
   "id": "2031537b",
   "metadata": {},
   "outputs": [],
   "source": [
    "numpyDizisi = np.array([50,40,30])"
   ]
  },
  {
   "cell_type": "code",
   "execution_count": 11,
   "id": "b0447107",
   "metadata": {},
   "outputs": [
    {
     "data": {
      "text/plain": [
       "array([50, 40, 30])"
      ]
     },
     "execution_count": 11,
     "metadata": {},
     "output_type": "execute_result"
    }
   ],
   "source": [
    "numpyDizisi"
   ]
  },
  {
   "cell_type": "code",
   "execution_count": 12,
   "id": "6c895851",
   "metadata": {},
   "outputs": [
    {
     "data": {
      "text/plain": [
       "0    50\n",
       "1    40\n",
       "2    30\n",
       "dtype: int32"
      ]
     },
     "execution_count": 12,
     "metadata": {},
     "output_type": "execute_result"
    }
   ],
   "source": [
    "pd.Series(numpyDizisi)"
   ]
  },
  {
   "cell_type": "code",
   "execution_count": 13,
   "id": "06ec8d35",
   "metadata": {},
   "outputs": [
    {
     "data": {
      "text/plain": [
       "Mehdi     50\n",
       "Zeynep    40\n",
       "Mehmet    30\n",
       "dtype: int32"
      ]
     },
     "execution_count": 13,
     "metadata": {},
     "output_type": "execute_result"
    }
   ],
   "source": [
    "pd.Series(numpyDizisi, benimIsimlerim)"
   ]
  },
  {
   "cell_type": "code",
   "execution_count": 14,
   "id": "6a6386da",
   "metadata": {},
   "outputs": [
    {
     "data": {
      "text/plain": [
       "1      Mehdi\n",
       "2        Ali\n",
       "3    Hüseyin\n",
       "dtype: object"
      ]
     },
     "execution_count": 14,
     "metadata": {},
     "output_type": "execute_result"
    }
   ],
   "source": [
    "pd.Series([\"Mehdi\",\"Ali\",\"Hüseyin\"], [1,2,3])"
   ]
  },
  {
   "cell_type": "code",
   "execution_count": 16,
   "id": "5edd536c",
   "metadata": {},
   "outputs": [],
   "source": [
    "yarismaSonucu1 = pd.Series([10,5,1],[\"Atil\",\"Atlas\",\"Mehmet\"])"
   ]
  },
  {
   "cell_type": "code",
   "execution_count": 17,
   "id": "280ee9d1",
   "metadata": {},
   "outputs": [
    {
     "data": {
      "text/plain": [
       "Atil      10\n",
       "Atlas      5\n",
       "Mehmet     1\n",
       "dtype: int64"
      ]
     },
     "execution_count": 17,
     "metadata": {},
     "output_type": "execute_result"
    }
   ],
   "source": [
    "yarismaSonucu1"
   ]
  },
  {
   "cell_type": "code",
   "execution_count": 18,
   "id": "c7dda8a0",
   "metadata": {},
   "outputs": [],
   "source": [
    "yarismaSonucu2=pd.Series([20,10,5],[\"Atil\",\"Atlas\",\"Mehmet\"])"
   ]
  },
  {
   "cell_type": "code",
   "execution_count": 19,
   "id": "5cfac2bd",
   "metadata": {},
   "outputs": [
    {
     "data": {
      "text/plain": [
       "Atil      20\n",
       "Atlas     10\n",
       "Mehmet     5\n",
       "dtype: int64"
      ]
     },
     "execution_count": 19,
     "metadata": {},
     "output_type": "execute_result"
    }
   ],
   "source": [
    "yarismaSonucu2"
   ]
  },
  {
   "cell_type": "code",
   "execution_count": 20,
   "id": "f2b041cf",
   "metadata": {},
   "outputs": [
    {
     "data": {
      "text/plain": [
       "10"
      ]
     },
     "execution_count": 20,
     "metadata": {},
     "output_type": "execute_result"
    }
   ],
   "source": [
    "yarismaSonucu2[\"Atlas\"]"
   ]
  },
  {
   "cell_type": "code",
   "execution_count": 21,
   "id": "a33a4dce",
   "metadata": {},
   "outputs": [],
   "source": [
    "Sonsonuc = yarismaSonucu1 + yarismaSonucu2"
   ]
  },
  {
   "cell_type": "code",
   "execution_count": 22,
   "id": "fa21d655",
   "metadata": {},
   "outputs": [
    {
     "data": {
      "text/plain": [
       "Atil      30\n",
       "Atlas     15\n",
       "Mehmet     6\n",
       "dtype: int64"
      ]
     },
     "execution_count": 22,
     "metadata": {},
     "output_type": "execute_result"
    }
   ],
   "source": [
    "Sonsonuc"
   ]
  },
  {
   "cell_type": "code",
   "execution_count": 24,
   "id": "89bb8647",
   "metadata": {},
   "outputs": [],
   "source": [
    "farkliSeries = pd.Series([20,30,40,50],[\"a\",\"b\",\"c\",\"d\"])"
   ]
  },
  {
   "cell_type": "code",
   "execution_count": 25,
   "id": "c9ff1f72",
   "metadata": {},
   "outputs": [],
   "source": [
    "farklıSeries2= pd.Series([10,5,3,1],[\"a\",\"c\",\"f\",\"g\"])"
   ]
  },
  {
   "cell_type": "code",
   "execution_count": 27,
   "id": "945eed98",
   "metadata": {},
   "outputs": [
    {
     "data": {
      "text/plain": [
       "a    20\n",
       "b    30\n",
       "c    40\n",
       "d    50\n",
       "dtype: int64"
      ]
     },
     "execution_count": 27,
     "metadata": {},
     "output_type": "execute_result"
    }
   ],
   "source": [
    "farkliSeries"
   ]
  },
  {
   "cell_type": "code",
   "execution_count": 28,
   "id": "b2b02ea5",
   "metadata": {},
   "outputs": [
    {
     "data": {
      "text/plain": [
       "a    10\n",
       "c     5\n",
       "f     3\n",
       "g     1\n",
       "dtype: int64"
      ]
     },
     "execution_count": 28,
     "metadata": {},
     "output_type": "execute_result"
    }
   ],
   "source": [
    "farklıSeries2"
   ]
  },
  {
   "cell_type": "code",
   "execution_count": 30,
   "id": "e56a6ae6",
   "metadata": {},
   "outputs": [
    {
     "data": {
      "text/plain": [
       "a    30.0\n",
       "b     NaN\n",
       "c    45.0\n",
       "d     NaN\n",
       "f     NaN\n",
       "g     NaN\n",
       "dtype: float64"
      ]
     },
     "execution_count": 30,
     "metadata": {},
     "output_type": "execute_result"
    }
   ],
   "source": [
    "farkliSeries+farklıSeries2 \n",
    "##Aynı olan değerleri toplar olmayanlara NaN (tanımsız) değeri atar."
   ]
  },
  {
   "cell_type": "code",
   "execution_count": null,
   "id": "3bdce839",
   "metadata": {},
   "outputs": [],
   "source": []
  }
 ],
 "metadata": {
  "kernelspec": {
   "display_name": "Python 3 (ipykernel)",
   "language": "python",
   "name": "python3"
  },
  "language_info": {
   "codemirror_mode": {
    "name": "ipython",
    "version": 3
   },
   "file_extension": ".py",
   "mimetype": "text/x-python",
   "name": "python",
   "nbconvert_exporter": "python",
   "pygments_lexer": "ipython3",
   "version": "3.11.3"
  }
 },
 "nbformat": 4,
 "nbformat_minor": 5
}
