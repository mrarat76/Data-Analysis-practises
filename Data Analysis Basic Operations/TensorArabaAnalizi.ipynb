{
 "cells": [
  {
   "cell_type": "code",
   "execution_count": 1,
   "id": "0f6ab9a7",
   "metadata": {},
   "outputs": [],
   "source": [
    "import pandas as pd\n",
    "import numpy as np\n",
    "import matplotlib.pyplot as plt\n",
    "import seaborn as sbn"
   ]
  },
  {
   "cell_type": "code",
   "execution_count": 2,
   "id": "67ac0f9f",
   "metadata": {},
   "outputs": [],
   "source": [
    "dataFrame = pd.read_excel(\"merc.xlsx\")"
   ]
  },
  {
   "cell_type": "code",
   "execution_count": 3,
   "id": "ec2045d7",
   "metadata": {},
   "outputs": [
    {
     "data": {
      "text/html": [
       "<div>\n",
       "<style scoped>\n",
       "    .dataframe tbody tr th:only-of-type {\n",
       "        vertical-align: middle;\n",
       "    }\n",
       "\n",
       "    .dataframe tbody tr th {\n",
       "        vertical-align: top;\n",
       "    }\n",
       "\n",
       "    .dataframe thead th {\n",
       "        text-align: right;\n",
       "    }\n",
       "</style>\n",
       "<table border=\"1\" class=\"dataframe\">\n",
       "  <thead>\n",
       "    <tr style=\"text-align: right;\">\n",
       "      <th></th>\n",
       "      <th>year</th>\n",
       "      <th>price</th>\n",
       "      <th>transmission</th>\n",
       "      <th>mileage</th>\n",
       "      <th>tax</th>\n",
       "      <th>mpg</th>\n",
       "      <th>engineSize</th>\n",
       "    </tr>\n",
       "  </thead>\n",
       "  <tbody>\n",
       "    <tr>\n",
       "      <th>0</th>\n",
       "      <td>2005</td>\n",
       "      <td>5200</td>\n",
       "      <td>Automatic</td>\n",
       "      <td>63000</td>\n",
       "      <td>325</td>\n",
       "      <td>32.1</td>\n",
       "      <td>1.8</td>\n",
       "    </tr>\n",
       "    <tr>\n",
       "      <th>1</th>\n",
       "      <td>2017</td>\n",
       "      <td>34948</td>\n",
       "      <td>Automatic</td>\n",
       "      <td>27000</td>\n",
       "      <td>20</td>\n",
       "      <td>61.4</td>\n",
       "      <td>2.1</td>\n",
       "    </tr>\n",
       "    <tr>\n",
       "      <th>2</th>\n",
       "      <td>2016</td>\n",
       "      <td>49948</td>\n",
       "      <td>Automatic</td>\n",
       "      <td>6200</td>\n",
       "      <td>555</td>\n",
       "      <td>28.0</td>\n",
       "      <td>5.5</td>\n",
       "    </tr>\n",
       "    <tr>\n",
       "      <th>3</th>\n",
       "      <td>2016</td>\n",
       "      <td>61948</td>\n",
       "      <td>Automatic</td>\n",
       "      <td>16000</td>\n",
       "      <td>325</td>\n",
       "      <td>30.4</td>\n",
       "      <td>4.0</td>\n",
       "    </tr>\n",
       "    <tr>\n",
       "      <th>4</th>\n",
       "      <td>2016</td>\n",
       "      <td>73948</td>\n",
       "      <td>Automatic</td>\n",
       "      <td>4000</td>\n",
       "      <td>325</td>\n",
       "      <td>30.1</td>\n",
       "      <td>4.0</td>\n",
       "    </tr>\n",
       "  </tbody>\n",
       "</table>\n",
       "</div>"
      ],
      "text/plain": [
       "   year  price transmission  mileage  tax   mpg  engineSize\n",
       "0  2005   5200    Automatic    63000  325  32.1         1.8\n",
       "1  2017  34948    Automatic    27000   20  61.4         2.1\n",
       "2  2016  49948    Automatic     6200  555  28.0         5.5\n",
       "3  2016  61948    Automatic    16000  325  30.4         4.0\n",
       "4  2016  73948    Automatic     4000  325  30.1         4.0"
      ]
     },
     "execution_count": 3,
     "metadata": {},
     "output_type": "execute_result"
    }
   ],
   "source": [
    "dataFrame.head()"
   ]
  },
  {
   "cell_type": "code",
   "execution_count": 4,
   "id": "c429b458",
   "metadata": {
    "scrolled": true
   },
   "outputs": [],
   "source": [
    "dataFrame = dataFrame.drop(\"transmission\", axis = 1)"
   ]
  },
  {
   "cell_type": "code",
   "execution_count": 5,
   "id": "74507bf9",
   "metadata": {},
   "outputs": [
    {
     "data": {
      "text/html": [
       "<div>\n",
       "<style scoped>\n",
       "    .dataframe tbody tr th:only-of-type {\n",
       "        vertical-align: middle;\n",
       "    }\n",
       "\n",
       "    .dataframe tbody tr th {\n",
       "        vertical-align: top;\n",
       "    }\n",
       "\n",
       "    .dataframe thead th {\n",
       "        text-align: right;\n",
       "    }\n",
       "</style>\n",
       "<table border=\"1\" class=\"dataframe\">\n",
       "  <thead>\n",
       "    <tr style=\"text-align: right;\">\n",
       "      <th></th>\n",
       "      <th>year</th>\n",
       "      <th>price</th>\n",
       "      <th>mileage</th>\n",
       "      <th>tax</th>\n",
       "      <th>mpg</th>\n",
       "      <th>engineSize</th>\n",
       "    </tr>\n",
       "  </thead>\n",
       "  <tbody>\n",
       "    <tr>\n",
       "      <th>count</th>\n",
       "      <td>13119.000000</td>\n",
       "      <td>13119.000000</td>\n",
       "      <td>13119.000000</td>\n",
       "      <td>13119.000000</td>\n",
       "      <td>13119.000000</td>\n",
       "      <td>13119.000000</td>\n",
       "    </tr>\n",
       "    <tr>\n",
       "      <th>mean</th>\n",
       "      <td>2017.296288</td>\n",
       "      <td>24698.596920</td>\n",
       "      <td>21949.559037</td>\n",
       "      <td>129.972178</td>\n",
       "      <td>55.155843</td>\n",
       "      <td>2.071530</td>\n",
       "    </tr>\n",
       "    <tr>\n",
       "      <th>std</th>\n",
       "      <td>2.224709</td>\n",
       "      <td>11842.675542</td>\n",
       "      <td>21176.512267</td>\n",
       "      <td>65.260286</td>\n",
       "      <td>15.220082</td>\n",
       "      <td>0.572426</td>\n",
       "    </tr>\n",
       "    <tr>\n",
       "      <th>min</th>\n",
       "      <td>1970.000000</td>\n",
       "      <td>650.000000</td>\n",
       "      <td>1.000000</td>\n",
       "      <td>0.000000</td>\n",
       "      <td>1.100000</td>\n",
       "      <td>0.000000</td>\n",
       "    </tr>\n",
       "    <tr>\n",
       "      <th>25%</th>\n",
       "      <td>2016.000000</td>\n",
       "      <td>17450.000000</td>\n",
       "      <td>6097.500000</td>\n",
       "      <td>125.000000</td>\n",
       "      <td>45.600000</td>\n",
       "      <td>1.800000</td>\n",
       "    </tr>\n",
       "    <tr>\n",
       "      <th>50%</th>\n",
       "      <td>2018.000000</td>\n",
       "      <td>22480.000000</td>\n",
       "      <td>15189.000000</td>\n",
       "      <td>145.000000</td>\n",
       "      <td>56.500000</td>\n",
       "      <td>2.000000</td>\n",
       "    </tr>\n",
       "    <tr>\n",
       "      <th>75%</th>\n",
       "      <td>2019.000000</td>\n",
       "      <td>28980.000000</td>\n",
       "      <td>31779.500000</td>\n",
       "      <td>145.000000</td>\n",
       "      <td>64.200000</td>\n",
       "      <td>2.100000</td>\n",
       "    </tr>\n",
       "    <tr>\n",
       "      <th>max</th>\n",
       "      <td>2020.000000</td>\n",
       "      <td>159999.000000</td>\n",
       "      <td>259000.000000</td>\n",
       "      <td>580.000000</td>\n",
       "      <td>217.300000</td>\n",
       "      <td>6.200000</td>\n",
       "    </tr>\n",
       "  </tbody>\n",
       "</table>\n",
       "</div>"
      ],
      "text/plain": [
       "               year          price        mileage           tax           mpg  \\\n",
       "count  13119.000000   13119.000000   13119.000000  13119.000000  13119.000000   \n",
       "mean    2017.296288   24698.596920   21949.559037    129.972178     55.155843   \n",
       "std        2.224709   11842.675542   21176.512267     65.260286     15.220082   \n",
       "min     1970.000000     650.000000       1.000000      0.000000      1.100000   \n",
       "25%     2016.000000   17450.000000    6097.500000    125.000000     45.600000   \n",
       "50%     2018.000000   22480.000000   15189.000000    145.000000     56.500000   \n",
       "75%     2019.000000   28980.000000   31779.500000    145.000000     64.200000   \n",
       "max     2020.000000  159999.000000  259000.000000    580.000000    217.300000   \n",
       "\n",
       "         engineSize  \n",
       "count  13119.000000  \n",
       "mean       2.071530  \n",
       "std        0.572426  \n",
       "min        0.000000  \n",
       "25%        1.800000  \n",
       "50%        2.000000  \n",
       "75%        2.100000  \n",
       "max        6.200000  "
      ]
     },
     "execution_count": 5,
     "metadata": {},
     "output_type": "execute_result"
    }
   ],
   "source": [
    "dataFrame.describe()"
   ]
  },
  {
   "cell_type": "code",
   "execution_count": 6,
   "id": "fe35c4d1",
   "metadata": {},
   "outputs": [
    {
     "data": {
      "text/plain": [
       "year          0\n",
       "price         0\n",
       "mileage       0\n",
       "tax           0\n",
       "mpg           0\n",
       "engineSize    0\n",
       "dtype: int64"
      ]
     },
     "execution_count": 6,
     "metadata": {},
     "output_type": "execute_result"
    }
   ],
   "source": [
    "dataFrame.isnull().sum() #boş veri varmı ona bakarız"
   ]
  },
  {
   "cell_type": "code",
   "execution_count": 7,
   "id": "6e0bd77e",
   "metadata": {},
   "outputs": [
    {
     "name": "stderr",
     "output_type": "stream",
     "text": [
      "C:\\Users\\Monster\\AppData\\Local\\Temp\\ipykernel_8572\\686912093.py:2: UserWarning: \n",
      "\n",
      "`distplot` is a deprecated function and will be removed in seaborn v0.14.0.\n",
      "\n",
      "Please adapt your code to use either `displot` (a figure-level function with\n",
      "similar flexibility) or `histplot` (an axes-level function for histograms).\n",
      "\n",
      "For a guide to updating your code to use the new functions, please see\n",
      "https://gist.github.com/mwaskom/de44147ed2974457ad6372750bbe5751\n",
      "\n",
      "  sbn.distplot(dataFrame[\"price\"])\n"
     ]
    },
    {
     "data": {
      "text/plain": [
       "<Axes: xlabel='price', ylabel='Density'>"
      ]
     },
     "execution_count": 7,
     "metadata": {},
     "output_type": "execute_result"
    },
    {
     "data": {
      "image/png": "[encoded data removed]",
      "text/plain": [
       "<Figure size 700x500 with 1 Axes>"
      ]
     },
     "metadata": {},
     "output_type": "display_data"
    }
   ],
   "source": [
    "plt.figure(figsize=(7,5))\n",
    "sbn.distplot(dataFrame[\"price\"])"
   ]
  },
  {
   "cell_type": "code",
   "execution_count": 8,
   "id": "6d03d6ba",
   "metadata": {},
   "outputs": [
    {
     "data": {
      "text/plain": [
       "<Axes: ylabel='count'>"
      ]
     },
     "execution_count": 8,
     "metadata": {},
     "output_type": "execute_result"
    },
    {
     "data": {
      "image/png": "[encoded data removed]",
      "text/plain": [
       "<Figure size 640x480 with 1 Axes>"
      ]
     },
     "metadata": {},
     "output_type": "display_data"
    }
   ],
   "source": [
    "sbn.countplot(dataFrame[\"year\"])"
   ]
  },
  {
   "cell_type": "code",
   "execution_count": 9,
   "id": "9a328f11",
   "metadata": {},
   "outputs": [
    {
     "data": {
      "text/html": [
       "<div>\n",
       "<style scoped>\n",
       "    .dataframe tbody tr th:only-of-type {\n",
       "        vertical-align: middle;\n",
       "    }\n",
       "\n",
       "    .dataframe tbody tr th {\n",
       "        vertical-align: top;\n",
       "    }\n",
       "\n",
       "    .dataframe thead th {\n",
       "        text-align: right;\n",
       "    }\n",
       "</style>\n",
       "<table border=\"1\" class=\"dataframe\">\n",
       "  <thead>\n",
       "    <tr style=\"text-align: right;\">\n",
       "      <th></th>\n",
       "      <th>year</th>\n",
       "      <th>price</th>\n",
       "      <th>mileage</th>\n",
       "      <th>tax</th>\n",
       "      <th>mpg</th>\n",
       "      <th>engineSize</th>\n",
       "    </tr>\n",
       "  </thead>\n",
       "  <tbody>\n",
       "    <tr>\n",
       "      <th>year</th>\n",
       "      <td>1.000000</td>\n",
       "      <td>0.520712</td>\n",
       "      <td>-0.738027</td>\n",
       "      <td>0.012480</td>\n",
       "      <td>-0.094626</td>\n",
       "      <td>-0.142147</td>\n",
       "    </tr>\n",
       "    <tr>\n",
       "      <th>price</th>\n",
       "      <td>0.520712</td>\n",
       "      <td>1.000000</td>\n",
       "      <td>-0.537214</td>\n",
       "      <td>0.268717</td>\n",
       "      <td>-0.438445</td>\n",
       "      <td>0.516126</td>\n",
       "    </tr>\n",
       "    <tr>\n",
       "      <th>mileage</th>\n",
       "      <td>-0.738027</td>\n",
       "      <td>-0.537214</td>\n",
       "      <td>1.000000</td>\n",
       "      <td>-0.160223</td>\n",
       "      <td>0.202850</td>\n",
       "      <td>0.063652</td>\n",
       "    </tr>\n",
       "    <tr>\n",
       "      <th>tax</th>\n",
       "      <td>0.012480</td>\n",
       "      <td>0.268717</td>\n",
       "      <td>-0.160223</td>\n",
       "      <td>1.000000</td>\n",
       "      <td>-0.513742</td>\n",
       "      <td>0.338341</td>\n",
       "    </tr>\n",
       "    <tr>\n",
       "      <th>mpg</th>\n",
       "      <td>-0.094626</td>\n",
       "      <td>-0.438445</td>\n",
       "      <td>0.202850</td>\n",
       "      <td>-0.513742</td>\n",
       "      <td>1.000000</td>\n",
       "      <td>-0.339862</td>\n",
       "    </tr>\n",
       "    <tr>\n",
       "      <th>engineSize</th>\n",
       "      <td>-0.142147</td>\n",
       "      <td>0.516126</td>\n",
       "      <td>0.063652</td>\n",
       "      <td>0.338341</td>\n",
       "      <td>-0.339862</td>\n",
       "      <td>1.000000</td>\n",
       "    </tr>\n",
       "  </tbody>\n",
       "</table>\n",
       "</div>"
      ],
      "text/plain": [
       "                year     price   mileage       tax       mpg  engineSize\n",
       "year        1.000000  0.520712 -0.738027  0.012480 -0.094626   -0.142147\n",
       "price       0.520712  1.000000 -0.537214  0.268717 -0.438445    0.516126\n",
       "mileage    -0.738027 -0.537214  1.000000 -0.160223  0.202850    0.063652\n",
       "tax         0.012480  0.268717 -0.160223  1.000000 -0.513742    0.338341\n",
       "mpg        -0.094626 -0.438445  0.202850 -0.513742  1.000000   -0.339862\n",
       "engineSize -0.142147  0.516126  0.063652  0.338341 -0.339862    1.000000"
      ]
     },
     "execution_count": 9,
     "metadata": {},
     "output_type": "execute_result"
    }
   ],
   "source": [
    "dataFrame.corr()"
   ]
  },
  {
   "cell_type": "code",
   "execution_count": 10,
   "id": "5ee2b7f9",
   "metadata": {},
   "outputs": [
    {
     "data": {
      "text/plain": [
       "131.19"
      ]
     },
     "execution_count": 10,
     "metadata": {},
     "output_type": "execute_result"
    }
   ],
   "source": [
    "len(dataFrame)*0.01"
   ]
  },
  {
   "cell_type": "code",
   "execution_count": 11,
   "id": "e3093e09",
   "metadata": {},
   "outputs": [],
   "source": [
    "df= dataFrame.sort_values(\"price\",ascending=False).iloc[131:]"
   ]
  },
  {
   "cell_type": "code",
   "execution_count": 12,
   "id": "67e0e33d",
   "metadata": {},
   "outputs": [
    {
     "data": {
      "text/html": [
       "<div>\n",
       "<style scoped>\n",
       "    .dataframe tbody tr th:only-of-type {\n",
       "        vertical-align: middle;\n",
       "    }\n",
       "\n",
       "    .dataframe tbody tr th {\n",
       "        vertical-align: top;\n",
       "    }\n",
       "\n",
       "    .dataframe thead th {\n",
       "        text-align: right;\n",
       "    }\n",
       "</style>\n",
       "<table border=\"1\" class=\"dataframe\">\n",
       "  <thead>\n",
       "    <tr style=\"text-align: right;\">\n",
       "      <th></th>\n",
       "      <th>year</th>\n",
       "      <th>price</th>\n",
       "      <th>mileage</th>\n",
       "      <th>tax</th>\n",
       "      <th>mpg</th>\n",
       "      <th>engineSize</th>\n",
       "    </tr>\n",
       "  </thead>\n",
       "  <tbody>\n",
       "    <tr>\n",
       "      <th>count</th>\n",
       "      <td>12988.000000</td>\n",
       "      <td>12988.000000</td>\n",
       "      <td>12988.000000</td>\n",
       "      <td>12988.000000</td>\n",
       "      <td>12988.000000</td>\n",
       "      <td>12988.000000</td>\n",
       "    </tr>\n",
       "    <tr>\n",
       "      <th>mean</th>\n",
       "      <td>2017.281876</td>\n",
       "      <td>24074.926933</td>\n",
       "      <td>22132.741146</td>\n",
       "      <td>129.689714</td>\n",
       "      <td>55.437142</td>\n",
       "      <td>2.050901</td>\n",
       "    </tr>\n",
       "    <tr>\n",
       "      <th>std</th>\n",
       "      <td>2.228515</td>\n",
       "      <td>9866.224575</td>\n",
       "      <td>21196.776401</td>\n",
       "      <td>65.183076</td>\n",
       "      <td>15.025999</td>\n",
       "      <td>0.532596</td>\n",
       "    </tr>\n",
       "    <tr>\n",
       "      <th>min</th>\n",
       "      <td>1970.000000</td>\n",
       "      <td>650.000000</td>\n",
       "      <td>1.000000</td>\n",
       "      <td>0.000000</td>\n",
       "      <td>1.100000</td>\n",
       "      <td>0.000000</td>\n",
       "    </tr>\n",
       "    <tr>\n",
       "      <th>25%</th>\n",
       "      <td>2016.000000</td>\n",
       "      <td>17357.500000</td>\n",
       "      <td>6322.000000</td>\n",
       "      <td>125.000000</td>\n",
       "      <td>45.600000</td>\n",
       "      <td>1.675000</td>\n",
       "    </tr>\n",
       "    <tr>\n",
       "      <th>50%</th>\n",
       "      <td>2018.000000</td>\n",
       "      <td>22299.000000</td>\n",
       "      <td>15369.500000</td>\n",
       "      <td>145.000000</td>\n",
       "      <td>56.500000</td>\n",
       "      <td>2.000000</td>\n",
       "    </tr>\n",
       "    <tr>\n",
       "      <th>75%</th>\n",
       "      <td>2019.000000</td>\n",
       "      <td>28706.000000</td>\n",
       "      <td>31982.250000</td>\n",
       "      <td>145.000000</td>\n",
       "      <td>64.200000</td>\n",
       "      <td>2.100000</td>\n",
       "    </tr>\n",
       "    <tr>\n",
       "      <th>max</th>\n",
       "      <td>2020.000000</td>\n",
       "      <td>65990.000000</td>\n",
       "      <td>259000.000000</td>\n",
       "      <td>580.000000</td>\n",
       "      <td>217.300000</td>\n",
       "      <td>6.200000</td>\n",
       "    </tr>\n",
       "  </tbody>\n",
       "</table>\n",
       "</div>"
      ],
      "text/plain": [
       "               year         price        mileage           tax           mpg  \\\n",
       "count  12988.000000  12988.000000   12988.000000  12988.000000  12988.000000   \n",
       "mean    2017.281876  24074.926933   22132.741146    129.689714     55.437142   \n",
       "std        2.228515   9866.224575   21196.776401     65.183076     15.025999   \n",
       "min     1970.000000    650.000000       1.000000      0.000000      1.100000   \n",
       "25%     2016.000000  17357.500000    6322.000000    125.000000     45.600000   \n",
       "50%     2018.000000  22299.000000   15369.500000    145.000000     56.500000   \n",
       "75%     2019.000000  28706.000000   31982.250000    145.000000     64.200000   \n",
       "max     2020.000000  65990.000000  259000.000000    580.000000    217.300000   \n",
       "\n",
       "         engineSize  \n",
       "count  12988.000000  \n",
       "mean       2.050901  \n",
       "std        0.532596  \n",
       "min        0.000000  \n",
       "25%        1.675000  \n",
       "50%        2.000000  \n",
       "75%        2.100000  \n",
       "max        6.200000  "
      ]
     },
     "execution_count": 12,
     "metadata": {},
     "output_type": "execute_result"
    }
   ],
   "source": [
    "df.describe()"
   ]
  },
  {
   "cell_type": "code",
   "execution_count": 13,
   "id": "5ff6c0fe",
   "metadata": {},
   "outputs": [
    {
     "name": "stderr",
     "output_type": "stream",
     "text": [
      "C:\\Users\\Monster\\AppData\\Local\\Temp\\ipykernel_8572\\2442844269.py:2: UserWarning: \n",
      "\n",
      "`distplot` is a deprecated function and will be removed in seaborn v0.14.0.\n",
      "\n",
      "Please adapt your code to use either `displot` (a figure-level function with\n",
      "similar flexibility) or `histplot` (an axes-level function for histograms).\n",
      "\n",
      "For a guide to updating your code to use the new functions, please see\n",
      "https://gist.github.com/mwaskom/de44147ed2974457ad6372750bbe5751\n",
      "\n",
      "  sbn.distplot(df[\"price\"])\n"
     ]
    },
    {
     "data": {
      "text/plain": [
       "<Axes: xlabel='price', ylabel='Density'>"
      ]
     },
     "execution_count": 13,
     "metadata": {},
     "output_type": "execute_result"
    },
    {
     "data": {
      "image/png": "[encoded data removed]",
      "text/plain": [
       "<Figure size 700x500 with 1 Axes>"
      ]
     },
     "metadata": {},
     "output_type": "display_data"
    }
   ],
   "source": [
    "plt.figure(figsize=(7,5))\n",
    "sbn.distplot(df[\"price\"])"
   ]
  },
  {
   "cell_type": "code",
   "execution_count": 14,
   "id": "7fa62210",
   "metadata": {},
   "outputs": [
    {
     "data": {
      "text/html": [
       "<div>\n",
       "<style scoped>\n",
       "    .dataframe tbody tr th:only-of-type {\n",
       "        vertical-align: middle;\n",
       "    }\n",
       "\n",
       "    .dataframe tbody tr th {\n",
       "        vertical-align: top;\n",
       "    }\n",
       "\n",
       "    .dataframe thead th {\n",
       "        text-align: right;\n",
       "    }\n",
       "</style>\n",
       "<table border=\"1\" class=\"dataframe\">\n",
       "  <thead>\n",
       "    <tr style=\"text-align: right;\">\n",
       "      <th></th>\n",
       "      <th>year</th>\n",
       "      <th>price</th>\n",
       "      <th>mileage</th>\n",
       "      <th>tax</th>\n",
       "      <th>mpg</th>\n",
       "      <th>engineSize</th>\n",
       "    </tr>\n",
       "  </thead>\n",
       "  <tbody>\n",
       "    <tr>\n",
       "      <th>count</th>\n",
       "      <td>13119.000000</td>\n",
       "      <td>13119.000000</td>\n",
       "      <td>13119.000000</td>\n",
       "      <td>13119.000000</td>\n",
       "      <td>13119.000000</td>\n",
       "      <td>13119.000000</td>\n",
       "    </tr>\n",
       "    <tr>\n",
       "      <th>mean</th>\n",
       "      <td>2017.296288</td>\n",
       "      <td>24698.596920</td>\n",
       "      <td>21949.559037</td>\n",
       "      <td>129.972178</td>\n",
       "      <td>55.155843</td>\n",
       "      <td>2.071530</td>\n",
       "    </tr>\n",
       "    <tr>\n",
       "      <th>std</th>\n",
       "      <td>2.224709</td>\n",
       "      <td>11842.675542</td>\n",
       "      <td>21176.512267</td>\n",
       "      <td>65.260286</td>\n",
       "      <td>15.220082</td>\n",
       "      <td>0.572426</td>\n",
       "    </tr>\n",
       "    <tr>\n",
       "      <th>min</th>\n",
       "      <td>1970.000000</td>\n",
       "      <td>650.000000</td>\n",
       "      <td>1.000000</td>\n",
       "      <td>0.000000</td>\n",
       "      <td>1.100000</td>\n",
       "      <td>0.000000</td>\n",
       "    </tr>\n",
       "    <tr>\n",
       "      <th>25%</th>\n",
       "      <td>2016.000000</td>\n",
       "      <td>17450.000000</td>\n",
       "      <td>6097.500000</td>\n",
       "      <td>125.000000</td>\n",
       "      <td>45.600000</td>\n",
       "      <td>1.800000</td>\n",
       "    </tr>\n",
       "    <tr>\n",
       "      <th>50%</th>\n",
       "      <td>2018.000000</td>\n",
       "      <td>22480.000000</td>\n",
       "      <td>15189.000000</td>\n",
       "      <td>145.000000</td>\n",
       "      <td>56.500000</td>\n",
       "      <td>2.000000</td>\n",
       "    </tr>\n",
       "    <tr>\n",
       "      <th>75%</th>\n",
       "      <td>2019.000000</td>\n",
       "      <td>28980.000000</td>\n",
       "      <td>31779.500000</td>\n",
       "      <td>145.000000</td>\n",
       "      <td>64.200000</td>\n",
       "      <td>2.100000</td>\n",
       "    </tr>\n",
       "    <tr>\n",
       "      <th>max</th>\n",
       "      <td>2020.000000</td>\n",
       "      <td>159999.000000</td>\n",
       "      <td>259000.000000</td>\n",
       "      <td>580.000000</td>\n",
       "      <td>217.300000</td>\n",
       "      <td>6.200000</td>\n",
       "    </tr>\n",
       "  </tbody>\n",
       "</table>\n",
       "</div>"
      ],
      "text/plain": [
       "               year          price        mileage           tax           mpg  \\\n",
       "count  13119.000000   13119.000000   13119.000000  13119.000000  13119.000000   \n",
       "mean    2017.296288   24698.596920   21949.559037    129.972178     55.155843   \n",
       "std        2.224709   11842.675542   21176.512267     65.260286     15.220082   \n",
       "min     1970.000000     650.000000       1.000000      0.000000      1.100000   \n",
       "25%     2016.000000   17450.000000    6097.500000    125.000000     45.600000   \n",
       "50%     2018.000000   22480.000000   15189.000000    145.000000     56.500000   \n",
       "75%     2019.000000   28980.000000   31779.500000    145.000000     64.200000   \n",
       "max     2020.000000  159999.000000  259000.000000    580.000000    217.300000   \n",
       "\n",
       "         engineSize  \n",
       "count  13119.000000  \n",
       "mean       2.071530  \n",
       "std        0.572426  \n",
       "min        0.000000  \n",
       "25%        1.800000  \n",
       "50%        2.000000  \n",
       "75%        2.100000  \n",
       "max        6.200000  "
      ]
     },
     "execution_count": 14,
     "metadata": {},
     "output_type": "execute_result"
    }
   ],
   "source": [
    "dataFrame.describe()"
   ]
  },
  {
   "cell_type": "code",
   "execution_count": 15,
   "id": "5e997477",
   "metadata": {},
   "outputs": [
    {
     "data": {
      "text/plain": [
       "year\n",
       "1970    24999.000000\n",
       "1997     9995.000000\n",
       "1998     8605.000000\n",
       "1999     5995.000000\n",
       "2000     5743.333333\n",
       "2001     4957.900000\n",
       "2002     5820.444444\n",
       "2003     4878.000000\n",
       "2004     4727.615385\n",
       "2005     4426.111111\n",
       "2006     4036.875000\n",
       "2007     5136.045455\n",
       "2008     6967.437500\n",
       "2009     6166.764706\n",
       "2010     8308.473684\n",
       "2011    12624.894737\n",
       "2012    10845.140351\n",
       "2013    11939.842466\n",
       "2014    14042.936864\n",
       "2015    16731.780020\n",
       "2016    19307.892948\n",
       "2017    21514.307854\n",
       "2018    25720.162918\n",
       "2019    31290.020865\n",
       "2020    35433.282337\n",
       "Name: price, dtype: float64"
      ]
     },
     "execution_count": 15,
     "metadata": {},
     "output_type": "execute_result"
    }
   ],
   "source": [
    "dataFrame.groupby(\"year\").mean()[\"price\"]"
   ]
  },
  {
   "cell_type": "code",
   "execution_count": 16,
   "id": "246b5759",
   "metadata": {},
   "outputs": [
    {
     "data": {
      "text/plain": [
       "year\n",
       "1970    24999.000000\n",
       "1997     9995.000000\n",
       "1998     8605.000000\n",
       "1999     5995.000000\n",
       "2000     5743.333333\n",
       "2001     4957.900000\n",
       "2002     5820.444444\n",
       "2003     4878.000000\n",
       "2004     4727.615385\n",
       "2005     4426.111111\n",
       "2006     4036.875000\n",
       "2007     5136.045455\n",
       "2008     6967.437500\n",
       "2009     6166.764706\n",
       "2010     8308.473684\n",
       "2011     8913.459459\n",
       "2012    10845.140351\n",
       "2013    11939.842466\n",
       "2014    14042.936864\n",
       "2015    16647.822222\n",
       "2016    19223.558943\n",
       "2017    21356.280421\n",
       "2018    24800.844506\n",
       "2019    30289.524832\n",
       "2020    34234.794872\n",
       "Name: price, dtype: float64"
      ]
     },
     "execution_count": 16,
     "metadata": {},
     "output_type": "execute_result"
    }
   ],
   "source": [
    "df.groupby(\"year\").mean()[\"price\"]"
   ]
  },
  {
   "cell_type": "code",
   "execution_count": 17,
   "id": "60e5e816",
   "metadata": {
    "scrolled": true
   },
   "outputs": [],
   "source": [
    "y= dataFrame[\"price\"].values ## ulaşılmak istenen\n",
    "x = dataFrame.drop(\"price\", axis=1).values ##tahmin istenen şeyler"
   ]
  },
  {
   "cell_type": "code",
   "execution_count": 18,
   "id": "fd7ac6a1",
   "metadata": {},
   "outputs": [
    {
     "data": {
      "text/plain": [
       "array([ 5200, 34948, 49948, ..., 30999, 37990, 54999], dtype=int64)"
      ]
     },
     "execution_count": 18,
     "metadata": {},
     "output_type": "execute_result"
    }
   ],
   "source": [
    "y"
   ]
  },
  {
   "cell_type": "code",
   "execution_count": 19,
   "id": "f617bc93",
   "metadata": {},
   "outputs": [
    {
     "data": {
      "text/plain": [
       "array([[2.0050e+03, 6.3000e+04, 3.2500e+02, 3.2100e+01, 1.8000e+00],\n",
       "       [2.0170e+03, 2.7000e+04, 2.0000e+01, 6.1400e+01, 2.1000e+00],\n",
       "       [2.0160e+03, 6.2000e+03, 5.5500e+02, 2.8000e+01, 5.5000e+00],\n",
       "       ...,\n",
       "       [2.0190e+03, 1.1612e+04, 1.4500e+02, 4.1500e+01, 2.1000e+00],\n",
       "       [2.0190e+03, 2.4260e+03, 1.4500e+02, 4.5600e+01, 2.0000e+00],\n",
       "       [2.0190e+03, 2.0750e+03, 1.4500e+02, 5.2300e+01, 2.9000e+00]])"
      ]
     },
     "execution_count": 19,
     "metadata": {},
     "output_type": "execute_result"
    }
   ],
   "source": [
    "x"
   ]
  },
  {
   "cell_type": "code",
   "execution_count": 20,
   "id": "6d0b5a3d",
   "metadata": {},
   "outputs": [],
   "source": [
    "from sklearn.model_selection import train_test_split"
   ]
  },
  {
   "cell_type": "code",
   "execution_count": 21,
   "id": "277c89ad",
   "metadata": {},
   "outputs": [],
   "source": [
    "x_train, x_test, y_train, y_test = train_test_split(x,y,test_size=0.3 , random_state=10)"
   ]
  },
  {
   "cell_type": "code",
   "execution_count": 22,
   "id": "8aa4efc3",
   "metadata": {},
   "outputs": [
    {
     "data": {
      "text/plain": [
       "9183"
      ]
     },
     "execution_count": 22,
     "metadata": {},
     "output_type": "execute_result"
    }
   ],
   "source": [
    "len(x_train)"
   ]
  },
  {
   "cell_type": "code",
   "execution_count": 23,
   "id": "f97d4d5b",
   "metadata": {},
   "outputs": [
    {
     "data": {
      "text/plain": [
       "3936"
      ]
     },
     "execution_count": 23,
     "metadata": {},
     "output_type": "execute_result"
    }
   ],
   "source": [
    "len(x_test)"
   ]
  },
  {
   "cell_type": "code",
   "execution_count": 24,
   "id": "8ab9ca08",
   "metadata": {},
   "outputs": [],
   "source": [
    "from sklearn.preprocessing import MinMaxScaler"
   ]
  },
  {
   "cell_type": "code",
   "execution_count": 25,
   "id": "a5d64568",
   "metadata": {},
   "outputs": [],
   "source": [
    "scaler= MinMaxScaler()"
   ]
  },
  {
   "cell_type": "code",
   "execution_count": 26,
   "id": "bf158c18",
   "metadata": {},
   "outputs": [],
   "source": [
    "x_train= scaler.fit_transform(x_train)"
   ]
  },
  {
   "cell_type": "code",
   "execution_count": 27,
   "id": "f770cd98",
   "metadata": {},
   "outputs": [],
   "source": [
    "x_test = scaler.transform (x_test)"
   ]
  },
  {
   "cell_type": "code",
   "execution_count": 28,
   "id": "2c14cf49",
   "metadata": {},
   "outputs": [],
   "source": [
    "from tensorflow.keras.models import Sequential\n",
    "from tensorflow.keras.layers import Dense"
   ]
  },
  {
   "cell_type": "code",
   "execution_count": 29,
   "id": "a392b5dc",
   "metadata": {},
   "outputs": [
    {
     "data": {
      "text/plain": [
       "(9183, 5)"
      ]
     },
     "execution_count": 29,
     "metadata": {},
     "output_type": "execute_result"
    }
   ],
   "source": [
    "x_train.shape"
   ]
  },
  {
   "cell_type": "code",
   "execution_count": 30,
   "id": "bbba525a",
   "metadata": {},
   "outputs": [],
   "source": [
    "model = Sequential()\n",
    "model.add(Dense(20, activation =\"relu\"))\n",
    "model.add(Dense(20, activation =\"relu\"))\n",
    "model.add(Dense(20, activation =\"relu\"))\n",
    "model.add(Dense(20, activation =\"relu\"))\n",
    "\n",
    "model.add(Dense(1))\n",
    "\n",
    "model.compile(optimizer=\"adam\", loss = \"mse\")\n"
   ]
  },
  {
   "cell_type": "code",
   "execution_count": 31,
   "id": "91d59d42",
   "metadata": {},
   "outputs": [
    {
     "name": "stdout",
     "output_type": "stream",
     "text": [
      "Epoch 1/300\n",
      "37/37 [==============================] - 1s 13ms/step - loss: 741832832.0000 - val_loss: 769842304.0000\n",
      "Epoch 2/300\n",
      "37/37 [==============================] - 0s 4ms/step - loss: 741750720.0000 - val_loss: 769679296.0000\n",
      "Epoch 3/300\n",
      "37/37 [==============================] - 0s 4ms/step - loss: 741371328.0000 - val_loss: 768912768.0000\n",
      "Epoch 4/300\n",
      "37/37 [==============================] - 0s 4ms/step - loss: 739766272.0000 - val_loss: 765964672.0000\n",
      "Epoch 5/300\n",
      "37/37 [==============================] - 0s 4ms/step - loss: 734432448.0000 - val_loss: 757086592.0000\n",
      "Epoch 6/300\n",
      "37/37 [==============================] - 0s 4ms/step - loss: 720299520.0000 - val_loss: 735497088.0000\n",
      "Epoch 7/300\n",
      "37/37 [==============================] - 0s 4ms/step - loss: 688975616.0000 - val_loss: 691188800.0000\n",
      "Epoch 8/300\n",
      "37/37 [==============================] - 0s 4ms/step - loss: 629944000.0000 - val_loss: 613297216.0000\n",
      "Epoch 9/300\n",
      "37/37 [==============================] - 0s 4ms/step - loss: 534823616.0000 - val_loss: 497378528.0000\n",
      "Epoch 10/300\n",
      "37/37 [==============================] - 0s 4ms/step - loss: 406432928.0000 - val_loss: 357425280.0000\n",
      "Epoch 11/300\n",
      "37/37 [==============================] - 0s 4ms/step - loss: 271793120.0000 - val_loss: 232616240.0000\n",
      "Epoch 12/300\n",
      "37/37 [==============================] - 0s 4ms/step - loss: 174880976.0000 - val_loss: 164943472.0000\n",
      "Epoch 13/300\n",
      "37/37 [==============================] - 0s 4ms/step - loss: 135975248.0000 - val_loss: 147244992.0000\n",
      "Epoch 14/300\n",
      "37/37 [==============================] - 0s 4ms/step - loss: 128642952.0000 - val_loss: 144400512.0000\n",
      "Epoch 15/300\n",
      "37/37 [==============================] - 0s 4ms/step - loss: 127161536.0000 - val_loss: 143251120.0000\n",
      "Epoch 16/300\n",
      "37/37 [==============================] - 0s 4ms/step - loss: 126171112.0000 - val_loss: 142273440.0000\n",
      "Epoch 17/300\n",
      "37/37 [==============================] - 0s 4ms/step - loss: 125259360.0000 - val_loss: 141290816.0000\n",
      "Epoch 18/300\n",
      "37/37 [==============================] - 0s 4ms/step - loss: 124276640.0000 - val_loss: 140238384.0000\n",
      "Epoch 19/300\n",
      "37/37 [==============================] - 0s 4ms/step - loss: 123278232.0000 - val_loss: 139188976.0000\n",
      "Epoch 20/300\n",
      "37/37 [==============================] - 0s 4ms/step - loss: 122273016.0000 - val_loss: 138113008.0000\n",
      "Epoch 21/300\n",
      "37/37 [==============================] - 0s 4ms/step - loss: 121279480.0000 - val_loss: 137045680.0000\n",
      "Epoch 22/300\n",
      "37/37 [==============================] - 0s 4ms/step - loss: 120255096.0000 - val_loss: 135997040.0000\n",
      "Epoch 23/300\n",
      "37/37 [==============================] - 0s 4ms/step - loss: 119218152.0000 - val_loss: 134818976.0000\n",
      "Epoch 24/300\n",
      "37/37 [==============================] - 0s 5ms/step - loss: 118044424.0000 - val_loss: 133572368.0000\n",
      "Epoch 25/300\n",
      "37/37 [==============================] - 0s 4ms/step - loss: 116815152.0000 - val_loss: 132216392.0000\n",
      "Epoch 26/300\n",
      "37/37 [==============================] - 0s 4ms/step - loss: 115521088.0000 - val_loss: 130818944.0000\n",
      "Epoch 27/300\n",
      "37/37 [==============================] - 0s 5ms/step - loss: 114168480.0000 - val_loss: 129363624.0000\n",
      "Epoch 28/300\n",
      "37/37 [==============================] - 0s 4ms/step - loss: 112787632.0000 - val_loss: 127875704.0000\n",
      "Epoch 29/300\n",
      "37/37 [==============================] - 0s 4ms/step - loss: 111352024.0000 - val_loss: 126293768.0000\n",
      "Epoch 30/300\n",
      "37/37 [==============================] - 0s 5ms/step - loss: 109877376.0000 - val_loss: 124719520.0000\n",
      "Epoch 31/300\n",
      "37/37 [==============================] - 0s 5ms/step - loss: 108377408.0000 - val_loss: 123100184.0000\n",
      "Epoch 32/300\n",
      "37/37 [==============================] - 0s 5ms/step - loss: 106826304.0000 - val_loss: 121412440.0000\n",
      "Epoch 33/300\n",
      "37/37 [==============================] - 0s 5ms/step - loss: 105276192.0000 - val_loss: 119710200.0000\n",
      "Epoch 34/300\n",
      "37/37 [==============================] - 0s 4ms/step - loss: 103689104.0000 - val_loss: 117943064.0000\n",
      "Epoch 35/300\n",
      "37/37 [==============================] - 0s 5ms/step - loss: 102017480.0000 - val_loss: 116158136.0000\n",
      "Epoch 36/300\n",
      "37/37 [==============================] - 0s 5ms/step - loss: 100361360.0000 - val_loss: 114293560.0000\n",
      "Epoch 37/300\n",
      "37/37 [==============================] - 0s 5ms/step - loss: 98623200.0000 - val_loss: 112506208.0000\n",
      "Epoch 38/300\n",
      "37/37 [==============================] - 0s 4ms/step - loss: 96879992.0000 - val_loss: 110602120.0000\n",
      "Epoch 39/300\n",
      "37/37 [==============================] - 0s 5ms/step - loss: 95127024.0000 - val_loss: 108716096.0000\n",
      "Epoch 40/300\n",
      "37/37 [==============================] - 0s 4ms/step - loss: 93309552.0000 - val_loss: 106624352.0000\n",
      "Epoch 41/300\n",
      "37/37 [==============================] - 0s 4ms/step - loss: 91459016.0000 - val_loss: 104623632.0000\n",
      "Epoch 42/300\n",
      "37/37 [==============================] - 0s 4ms/step - loss: 89582432.0000 - val_loss: 102565320.0000\n",
      "Epoch 43/300\n",
      "37/37 [==============================] - 0s 4ms/step - loss: 87713256.0000 - val_loss: 100484240.0000\n",
      "Epoch 44/300\n",
      "37/37 [==============================] - 0s 4ms/step - loss: 85841320.0000 - val_loss: 98399824.0000\n",
      "Epoch 45/300\n",
      "37/37 [==============================] - 0s 4ms/step - loss: 83907576.0000 - val_loss: 96273216.0000\n",
      "Epoch 46/300\n",
      "37/37 [==============================] - 0s 4ms/step - loss: 81998960.0000 - val_loss: 94143648.0000\n",
      "Epoch 47/300\n",
      "37/37 [==============================] - 0s 4ms/step - loss: 80061280.0000 - val_loss: 91909992.0000\n",
      "Epoch 48/300\n",
      "37/37 [==============================] - 0s 4ms/step - loss: 78155352.0000 - val_loss: 89781264.0000\n",
      "Epoch 49/300\n",
      "37/37 [==============================] - 0s 4ms/step - loss: 76240568.0000 - val_loss: 87580824.0000\n",
      "Epoch 50/300\n",
      "37/37 [==============================] - 0s 4ms/step - loss: 74369472.0000 - val_loss: 85462728.0000\n",
      "Epoch 51/300\n",
      "37/37 [==============================] - 0s 4ms/step - loss: 72538784.0000 - val_loss: 83366784.0000\n",
      "Epoch 52/300\n",
      "37/37 [==============================] - 0s 4ms/step - loss: 70730464.0000 - val_loss: 81305960.0000\n",
      "Epoch 53/300\n",
      "37/37 [==============================] - 0s 4ms/step - loss: 68954080.0000 - val_loss: 79330744.0000\n",
      "Epoch 54/300\n",
      "37/37 [==============================] - 0s 4ms/step - loss: 67286472.0000 - val_loss: 77402936.0000\n",
      "Epoch 55/300\n",
      "37/37 [==============================] - 0s 4ms/step - loss: 65689472.0000 - val_loss: 75517672.0000\n",
      "Epoch 56/300\n",
      "37/37 [==============================] - 0s 4ms/step - loss: 64172640.0000 - val_loss: 73778216.0000\n",
      "Epoch 57/300\n",
      "37/37 [==============================] - 0s 4ms/step - loss: 62682448.0000 - val_loss: 72115200.0000\n",
      "Epoch 58/300\n",
      "37/37 [==============================] - 0s 4ms/step - loss: 61271044.0000 - val_loss: 70411336.0000\n",
      "Epoch 59/300\n",
      "37/37 [==============================] - 0s 4ms/step - loss: 59944364.0000 - val_loss: 68869224.0000\n",
      "Epoch 60/300\n",
      "37/37 [==============================] - 0s 4ms/step - loss: 58663548.0000 - val_loss: 67377808.0000\n",
      "Epoch 61/300\n",
      "37/37 [==============================] - 0s 4ms/step - loss: 57408480.0000 - val_loss: 65877108.0000\n",
      "Epoch 62/300\n",
      "37/37 [==============================] - 0s 4ms/step - loss: 56215340.0000 - val_loss: 64413596.0000\n",
      "Epoch 63/300\n",
      "37/37 [==============================] - 0s 4ms/step - loss: 55033040.0000 - val_loss: 63064168.0000\n",
      "Epoch 64/300\n",
      "37/37 [==============================] - 0s 4ms/step - loss: 53971832.0000 - val_loss: 61728872.0000\n",
      "Epoch 65/300\n",
      "37/37 [==============================] - 0s 4ms/step - loss: 52811936.0000 - val_loss: 60474408.0000\n",
      "Epoch 66/300\n",
      "37/37 [==============================] - 0s 4ms/step - loss: 51749064.0000 - val_loss: 59120440.0000\n",
      "Epoch 67/300\n",
      "37/37 [==============================] - 0s 4ms/step - loss: 50636972.0000 - val_loss: 57829912.0000\n",
      "Epoch 68/300\n",
      "37/37 [==============================] - 0s 4ms/step - loss: 49576996.0000 - val_loss: 56627936.0000\n",
      "Epoch 69/300\n",
      "37/37 [==============================] - 0s 5ms/step - loss: 48563612.0000 - val_loss: 55468872.0000\n",
      "Epoch 70/300\n",
      "37/37 [==============================] - 0s 4ms/step - loss: 47568748.0000 - val_loss: 54278376.0000\n",
      "Epoch 71/300\n",
      "37/37 [==============================] - 0s 4ms/step - loss: 46617748.0000 - val_loss: 53183312.0000\n",
      "Epoch 72/300\n",
      "37/37 [==============================] - 0s 4ms/step - loss: 45721992.0000 - val_loss: 52184400.0000\n",
      "Epoch 73/300\n",
      "37/37 [==============================] - 0s 4ms/step - loss: 44848896.0000 - val_loss: 51197808.0000\n",
      "Epoch 74/300\n",
      "37/37 [==============================] - 0s 4ms/step - loss: 44052152.0000 - val_loss: 50360896.0000\n",
      "Epoch 75/300\n",
      "37/37 [==============================] - 0s 4ms/step - loss: 43403088.0000 - val_loss: 49504720.0000\n",
      "Epoch 76/300\n",
      "37/37 [==============================] - 0s 4ms/step - loss: 42686408.0000 - val_loss: 48941444.0000\n",
      "Epoch 77/300\n",
      "37/37 [==============================] - 0s 4ms/step - loss: 42131640.0000 - val_loss: 48152232.0000\n",
      "Epoch 78/300\n",
      "37/37 [==============================] - 0s 4ms/step - loss: 41634196.0000 - val_loss: 47568512.0000\n",
      "Epoch 79/300\n",
      "37/37 [==============================] - 0s 4ms/step - loss: 41127044.0000 - val_loss: 46986456.0000\n",
      "Epoch 80/300\n",
      "37/37 [==============================] - 0s 4ms/step - loss: 40690332.0000 - val_loss: 46450316.0000\n",
      "Epoch 81/300\n",
      "37/37 [==============================] - 0s 4ms/step - loss: 40281056.0000 - val_loss: 46128688.0000\n",
      "Epoch 82/300\n",
      "37/37 [==============================] - 0s 4ms/step - loss: 39915836.0000 - val_loss: 45641968.0000\n",
      "Epoch 83/300\n",
      "37/37 [==============================] - 0s 4ms/step - loss: 39583856.0000 - val_loss: 45188824.0000\n",
      "Epoch 84/300\n",
      "37/37 [==============================] - 0s 4ms/step - loss: 39287452.0000 - val_loss: 44822276.0000\n",
      "Epoch 85/300\n",
      "37/37 [==============================] - 0s 4ms/step - loss: 38984992.0000 - val_loss: 44498044.0000\n",
      "Epoch 86/300\n",
      "37/37 [==============================] - 0s 4ms/step - loss: 38661676.0000 - val_loss: 44247224.0000\n",
      "Epoch 87/300\n",
      "37/37 [==============================] - 0s 4ms/step - loss: 38435272.0000 - val_loss: 43894892.0000\n",
      "Epoch 88/300\n",
      "37/37 [==============================] - 0s 4ms/step - loss: 38161536.0000 - val_loss: 43634052.0000\n",
      "Epoch 89/300\n",
      "37/37 [==============================] - 0s 4ms/step - loss: 37908320.0000 - val_loss: 43342096.0000\n",
      "Epoch 90/300\n",
      "37/37 [==============================] - 0s 4ms/step - loss: 37711956.0000 - val_loss: 43142640.0000\n",
      "Epoch 91/300\n",
      "37/37 [==============================] - 0s 4ms/step - loss: 37478960.0000 - val_loss: 42919132.0000\n",
      "Epoch 92/300\n",
      "37/37 [==============================] - 0s 4ms/step - loss: 37294992.0000 - val_loss: 42806884.0000\n",
      "Epoch 93/300\n",
      "37/37 [==============================] - 0s 4ms/step - loss: 37098880.0000 - val_loss: 42417808.0000\n",
      "Epoch 94/300\n",
      "37/37 [==============================] - 0s 4ms/step - loss: 36893432.0000 - val_loss: 42261576.0000\n",
      "Epoch 95/300\n",
      "37/37 [==============================] - 0s 4ms/step - loss: 36711864.0000 - val_loss: 42002656.0000\n",
      "Epoch 96/300\n",
      "37/37 [==============================] - 0s 4ms/step - loss: 36557300.0000 - val_loss: 41853964.0000\n",
      "Epoch 97/300\n",
      "37/37 [==============================] - 0s 4ms/step - loss: 36387732.0000 - val_loss: 41660924.0000\n",
      "Epoch 98/300\n",
      "37/37 [==============================] - 0s 4ms/step - loss: 36219036.0000 - val_loss: 41543756.0000\n",
      "Epoch 99/300\n",
      "37/37 [==============================] - 0s 4ms/step - loss: 36012072.0000 - val_loss: 41432104.0000\n",
      "Epoch 100/300\n",
      "37/37 [==============================] - 0s 4ms/step - loss: 35914184.0000 - val_loss: 41161120.0000\n",
      "Epoch 101/300\n",
      "37/37 [==============================] - 0s 4ms/step - loss: 35791656.0000 - val_loss: 41026608.0000\n",
      "Epoch 102/300\n",
      "37/37 [==============================] - 0s 4ms/step - loss: 35648176.0000 - val_loss: 40834676.0000\n",
      "Epoch 103/300\n",
      "37/37 [==============================] - 0s 4ms/step - loss: 35480356.0000 - val_loss: 40685596.0000\n",
      "Epoch 104/300\n",
      "37/37 [==============================] - 0s 4ms/step - loss: 35412696.0000 - val_loss: 40527192.0000\n",
      "Epoch 105/300\n",
      "37/37 [==============================] - 0s 4ms/step - loss: 35238956.0000 - val_loss: 40433160.0000\n",
      "Epoch 106/300\n",
      "37/37 [==============================] - 0s 4ms/step - loss: 35206668.0000 - val_loss: 40290684.0000\n",
      "Epoch 107/300\n",
      "37/37 [==============================] - 0s 4ms/step - loss: 35032504.0000 - val_loss: 40146704.0000\n",
      "Epoch 108/300\n",
      "37/37 [==============================] - 0s 4ms/step - loss: 34886756.0000 - val_loss: 40030300.0000\n",
      "Epoch 109/300\n",
      "37/37 [==============================] - 0s 4ms/step - loss: 34788800.0000 - val_loss: 39933120.0000\n",
      "Epoch 110/300\n",
      "37/37 [==============================] - 0s 4ms/step - loss: 34729460.0000 - val_loss: 39796088.0000\n",
      "Epoch 111/300\n",
      "37/37 [==============================] - 0s 4ms/step - loss: 34618356.0000 - val_loss: 39780400.0000\n",
      "Epoch 112/300\n",
      "37/37 [==============================] - 0s 4ms/step - loss: 34479724.0000 - val_loss: 39741684.0000\n",
      "Epoch 113/300\n",
      "37/37 [==============================] - 0s 4ms/step - loss: 34478540.0000 - val_loss: 39486144.0000\n",
      "Epoch 114/300\n",
      "37/37 [==============================] - 0s 4ms/step - loss: 34360068.0000 - val_loss: 39486788.0000\n",
      "Epoch 115/300\n",
      "37/37 [==============================] - 0s 4ms/step - loss: 34223700.0000 - val_loss: 39302536.0000\n",
      "Epoch 116/300\n",
      "37/37 [==============================] - 0s 4ms/step - loss: 34218636.0000 - val_loss: 39426864.0000\n",
      "Epoch 117/300\n",
      "37/37 [==============================] - 0s 4ms/step - loss: 34109652.0000 - val_loss: 39137948.0000\n",
      "Epoch 118/300\n",
      "37/37 [==============================] - 0s 4ms/step - loss: 34010228.0000 - val_loss: 39057156.0000\n",
      "Epoch 119/300\n",
      "37/37 [==============================] - 0s 4ms/step - loss: 33939588.0000 - val_loss: 38952684.0000\n",
      "Epoch 120/300\n",
      "37/37 [==============================] - 0s 4ms/step - loss: 33867608.0000 - val_loss: 39002664.0000\n",
      "Epoch 121/300\n",
      "37/37 [==============================] - 0s 4ms/step - loss: 33781532.0000 - val_loss: 38849284.0000\n",
      "Epoch 122/300\n",
      "37/37 [==============================] - 0s 4ms/step - loss: 33761020.0000 - val_loss: 38701788.0000\n",
      "Epoch 123/300\n",
      "37/37 [==============================] - 0s 4ms/step - loss: 33684552.0000 - val_loss: 38835580.0000\n",
      "Epoch 124/300\n",
      "37/37 [==============================] - 0s 4ms/step - loss: 33604264.0000 - val_loss: 38585636.0000\n",
      "Epoch 125/300\n",
      "37/37 [==============================] - 0s 4ms/step - loss: 33575372.0000 - val_loss: 38474408.0000\n",
      "Epoch 126/300\n",
      "37/37 [==============================] - 0s 5ms/step - loss: 33473656.0000 - val_loss: 38411448.0000\n",
      "Epoch 127/300\n",
      "37/37 [==============================] - 0s 5ms/step - loss: 33493884.0000 - val_loss: 38453412.0000\n",
      "Epoch 128/300\n",
      "37/37 [==============================] - 0s 4ms/step - loss: 33386218.0000 - val_loss: 38342976.0000\n",
      "Epoch 129/300\n",
      "37/37 [==============================] - 0s 4ms/step - loss: 33315832.0000 - val_loss: 38238468.0000\n",
      "Epoch 130/300\n",
      "37/37 [==============================] - 0s 4ms/step - loss: 33266688.0000 - val_loss: 38216120.0000\n",
      "Epoch 131/300\n",
      "37/37 [==============================] - 0s 4ms/step - loss: 33190604.0000 - val_loss: 38161184.0000\n",
      "Epoch 132/300\n",
      "37/37 [==============================] - 0s 5ms/step - loss: 33194734.0000 - val_loss: 38033360.0000\n",
      "Epoch 133/300\n",
      "37/37 [==============================] - 0s 5ms/step - loss: 33125794.0000 - val_loss: 38049756.0000\n",
      "Epoch 134/300\n",
      "37/37 [==============================] - 0s 5ms/step - loss: 33126874.0000 - val_loss: 38317164.0000\n",
      "Epoch 135/300\n",
      "37/37 [==============================] - 0s 4ms/step - loss: 33140334.0000 - val_loss: 37899752.0000\n",
      "Epoch 136/300\n",
      "37/37 [==============================] - 0s 5ms/step - loss: 33025544.0000 - val_loss: 37830896.0000\n",
      "Epoch 137/300\n",
      "37/37 [==============================] - 0s 4ms/step - loss: 32982968.0000 - val_loss: 37826320.0000\n",
      "Epoch 138/300\n",
      "37/37 [==============================] - 0s 4ms/step - loss: 32916472.0000 - val_loss: 37696568.0000\n",
      "Epoch 139/300\n",
      "37/37 [==============================] - 0s 4ms/step - loss: 32880948.0000 - val_loss: 37671148.0000\n",
      "Epoch 140/300\n",
      "37/37 [==============================] - 0s 4ms/step - loss: 32826628.0000 - val_loss: 37591820.0000\n",
      "Epoch 141/300\n",
      "37/37 [==============================] - 0s 5ms/step - loss: 32828154.0000 - val_loss: 37670740.0000\n",
      "Epoch 142/300\n",
      "37/37 [==============================] - 0s 5ms/step - loss: 32789856.0000 - val_loss: 37613872.0000\n",
      "Epoch 143/300\n"
     ]
    },
    {
     "name": "stdout",
     "output_type": "stream",
     "text": [
      "37/37 [==============================] - 0s 4ms/step - loss: 32745352.0000 - val_loss: 37449396.0000\n",
      "Epoch 144/300\n",
      "37/37 [==============================] - 0s 4ms/step - loss: 32711924.0000 - val_loss: 37416520.0000\n",
      "Epoch 145/300\n",
      "37/37 [==============================] - 0s 4ms/step - loss: 32653766.0000 - val_loss: 37354148.0000\n",
      "Epoch 146/300\n",
      "37/37 [==============================] - 0s 4ms/step - loss: 32597966.0000 - val_loss: 37328068.0000\n",
      "Epoch 147/300\n",
      "37/37 [==============================] - 0s 4ms/step - loss: 32554550.0000 - val_loss: 37274588.0000\n",
      "Epoch 148/300\n",
      "37/37 [==============================] - 0s 4ms/step - loss: 32551652.0000 - val_loss: 37236440.0000\n",
      "Epoch 149/300\n",
      "37/37 [==============================] - 0s 4ms/step - loss: 32502416.0000 - val_loss: 37353456.0000\n",
      "Epoch 150/300\n",
      "37/37 [==============================] - 0s 4ms/step - loss: 32513948.0000 - val_loss: 37204720.0000\n",
      "Epoch 151/300\n",
      "37/37 [==============================] - 0s 4ms/step - loss: 32489192.0000 - val_loss: 37167444.0000\n",
      "Epoch 152/300\n",
      "37/37 [==============================] - 0s 4ms/step - loss: 32465476.0000 - val_loss: 37242144.0000\n",
      "Epoch 153/300\n",
      "37/37 [==============================] - 0s 4ms/step - loss: 32432648.0000 - val_loss: 37116756.0000\n",
      "Epoch 154/300\n",
      "37/37 [==============================] - 0s 4ms/step - loss: 32379252.0000 - val_loss: 37039708.0000\n",
      "Epoch 155/300\n",
      "37/37 [==============================] - 0s 4ms/step - loss: 32347118.0000 - val_loss: 37024496.0000\n",
      "Epoch 156/300\n",
      "37/37 [==============================] - 0s 4ms/step - loss: 32321698.0000 - val_loss: 36968136.0000\n",
      "Epoch 157/300\n",
      "37/37 [==============================] - 0s 4ms/step - loss: 32256444.0000 - val_loss: 36976700.0000\n",
      "Epoch 158/300\n",
      "37/37 [==============================] - 0s 4ms/step - loss: 32340810.0000 - val_loss: 36900820.0000\n",
      "Epoch 159/300\n",
      "37/37 [==============================] - 0s 4ms/step - loss: 32229752.0000 - val_loss: 36850960.0000\n",
      "Epoch 160/300\n",
      "37/37 [==============================] - 0s 4ms/step - loss: 32199968.0000 - val_loss: 36860156.0000\n",
      "Epoch 161/300\n",
      "37/37 [==============================] - 0s 4ms/step - loss: 32224368.0000 - val_loss: 36792188.0000\n",
      "Epoch 162/300\n",
      "37/37 [==============================] - 0s 4ms/step - loss: 32217728.0000 - val_loss: 36859940.0000\n",
      "Epoch 163/300\n",
      "37/37 [==============================] - 0s 4ms/step - loss: 32139580.0000 - val_loss: 36705108.0000\n",
      "Epoch 164/300\n",
      "37/37 [==============================] - 0s 4ms/step - loss: 32081820.0000 - val_loss: 36725868.0000\n",
      "Epoch 165/300\n",
      "37/37 [==============================] - 0s 4ms/step - loss: 32089946.0000 - val_loss: 36702832.0000\n",
      "Epoch 166/300\n",
      "37/37 [==============================] - 0s 4ms/step - loss: 32075832.0000 - val_loss: 36616092.0000\n",
      "Epoch 167/300\n",
      "37/37 [==============================] - 0s 4ms/step - loss: 32027568.0000 - val_loss: 36666816.0000\n",
      "Epoch 168/300\n",
      "37/37 [==============================] - 0s 4ms/step - loss: 32034904.0000 - val_loss: 36575032.0000\n",
      "Epoch 169/300\n",
      "37/37 [==============================] - 0s 4ms/step - loss: 32028366.0000 - val_loss: 36638720.0000\n",
      "Epoch 170/300\n",
      "37/37 [==============================] - 0s 4ms/step - loss: 31988454.0000 - val_loss: 36555148.0000\n",
      "Epoch 171/300\n",
      "37/37 [==============================] - 0s 4ms/step - loss: 31917214.0000 - val_loss: 36498800.0000\n",
      "Epoch 172/300\n",
      "37/37 [==============================] - 0s 4ms/step - loss: 31937082.0000 - val_loss: 36446664.0000\n",
      "Epoch 173/300\n",
      "37/37 [==============================] - 0s 4ms/step - loss: 31906298.0000 - val_loss: 36461832.0000\n",
      "Epoch 174/300\n",
      "37/37 [==============================] - 0s 4ms/step - loss: 31884430.0000 - val_loss: 36480424.0000\n",
      "Epoch 175/300\n",
      "37/37 [==============================] - 0s 4ms/step - loss: 31927604.0000 - val_loss: 36386480.0000\n",
      "Epoch 176/300\n",
      "37/37 [==============================] - 0s 4ms/step - loss: 31846800.0000 - val_loss: 36350224.0000\n",
      "Epoch 177/300\n",
      "37/37 [==============================] - 0s 4ms/step - loss: 31807586.0000 - val_loss: 36347756.0000\n",
      "Epoch 178/300\n",
      "37/37 [==============================] - 0s 4ms/step - loss: 31782198.0000 - val_loss: 36320064.0000\n",
      "Epoch 179/300\n",
      "37/37 [==============================] - 0s 4ms/step - loss: 31784132.0000 - val_loss: 36265896.0000\n",
      "Epoch 180/300\n",
      "37/37 [==============================] - 0s 4ms/step - loss: 31765642.0000 - val_loss: 36289496.0000\n",
      "Epoch 181/300\n",
      "37/37 [==============================] - 0s 4ms/step - loss: 31750404.0000 - val_loss: 36228772.0000\n",
      "Epoch 182/300\n",
      "37/37 [==============================] - 0s 4ms/step - loss: 31712976.0000 - val_loss: 36239920.0000\n",
      "Epoch 183/300\n",
      "37/37 [==============================] - 0s 4ms/step - loss: 31694570.0000 - val_loss: 36193940.0000\n",
      "Epoch 184/300\n",
      "37/37 [==============================] - 0s 4ms/step - loss: 31705686.0000 - val_loss: 36226040.0000\n",
      "Epoch 185/300\n",
      "37/37 [==============================] - 0s 4ms/step - loss: 31764338.0000 - val_loss: 36373116.0000\n",
      "Epoch 186/300\n",
      "37/37 [==============================] - 0s 4ms/step - loss: 31704234.0000 - val_loss: 36109644.0000\n",
      "Epoch 187/300\n",
      "37/37 [==============================] - 0s 4ms/step - loss: 31646166.0000 - val_loss: 36143144.0000\n",
      "Epoch 188/300\n",
      "37/37 [==============================] - 0s 4ms/step - loss: 31716070.0000 - val_loss: 36127136.0000\n",
      "Epoch 189/300\n",
      "37/37 [==============================] - 0s 4ms/step - loss: 31667850.0000 - val_loss: 36048412.0000\n",
      "Epoch 190/300\n",
      "37/37 [==============================] - 0s 4ms/step - loss: 31638176.0000 - val_loss: 36040776.0000\n",
      "Epoch 191/300\n",
      "37/37 [==============================] - 0s 4ms/step - loss: 31595118.0000 - val_loss: 36037744.0000\n",
      "Epoch 192/300\n",
      "37/37 [==============================] - 0s 4ms/step - loss: 31557168.0000 - val_loss: 36060944.0000\n",
      "Epoch 193/300\n",
      "37/37 [==============================] - 0s 4ms/step - loss: 31563120.0000 - val_loss: 36027248.0000\n",
      "Epoch 194/300\n",
      "37/37 [==============================] - 0s 4ms/step - loss: 31539026.0000 - val_loss: 35973908.0000\n",
      "Epoch 195/300\n",
      "37/37 [==============================] - 0s 4ms/step - loss: 31568622.0000 - val_loss: 36106284.0000\n",
      "Epoch 196/300\n",
      "37/37 [==============================] - 0s 4ms/step - loss: 31553030.0000 - val_loss: 35952604.0000\n",
      "Epoch 197/300\n",
      "37/37 [==============================] - 0s 4ms/step - loss: 31506744.0000 - val_loss: 36045940.0000\n",
      "Epoch 198/300\n",
      "37/37 [==============================] - 0s 4ms/step - loss: 31508214.0000 - val_loss: 35924288.0000\n",
      "Epoch 199/300\n",
      "37/37 [==============================] - 0s 4ms/step - loss: 31475510.0000 - val_loss: 35953456.0000\n",
      "Epoch 200/300\n",
      "37/37 [==============================] - 0s 4ms/step - loss: 31451320.0000 - val_loss: 35912736.0000\n",
      "Epoch 201/300\n",
      "37/37 [==============================] - 0s 4ms/step - loss: 31436566.0000 - val_loss: 35908500.0000\n",
      "Epoch 202/300\n",
      "37/37 [==============================] - 0s 4ms/step - loss: 31448806.0000 - val_loss: 35863544.0000\n",
      "Epoch 203/300\n",
      "37/37 [==============================] - 0s 4ms/step - loss: 31405368.0000 - val_loss: 35820496.0000\n",
      "Epoch 204/300\n",
      "37/37 [==============================] - 0s 4ms/step - loss: 31460688.0000 - val_loss: 35853600.0000\n",
      "Epoch 205/300\n",
      "37/37 [==============================] - 0s 4ms/step - loss: 31451668.0000 - val_loss: 35838532.0000\n",
      "Epoch 206/300\n",
      "37/37 [==============================] - 0s 4ms/step - loss: 31432652.0000 - val_loss: 35773132.0000\n",
      "Epoch 207/300\n",
      "37/37 [==============================] - 0s 4ms/step - loss: 31391898.0000 - val_loss: 35825296.0000\n",
      "Epoch 208/300\n",
      "37/37 [==============================] - 0s 4ms/step - loss: 31368276.0000 - val_loss: 35784944.0000\n",
      "Epoch 209/300\n",
      "37/37 [==============================] - 0s 4ms/step - loss: 31329274.0000 - val_loss: 35758116.0000\n",
      "Epoch 210/300\n",
      "37/37 [==============================] - 0s 4ms/step - loss: 31304794.0000 - val_loss: 35700964.0000\n",
      "Epoch 211/300\n",
      "37/37 [==============================] - 0s 4ms/step - loss: 31283644.0000 - val_loss: 35722572.0000\n",
      "Epoch 212/300\n",
      "37/37 [==============================] - 0s 4ms/step - loss: 31252740.0000 - val_loss: 35695884.0000\n",
      "Epoch 213/300\n",
      "37/37 [==============================] - 0s 4ms/step - loss: 31354766.0000 - val_loss: 35717528.0000\n",
      "Epoch 214/300\n",
      "37/37 [==============================] - 0s 4ms/step - loss: 31300698.0000 - val_loss: 35643436.0000\n",
      "Epoch 215/300\n",
      "37/37 [==============================] - 0s 4ms/step - loss: 31257110.0000 - val_loss: 35626052.0000\n",
      "Epoch 216/300\n",
      "37/37 [==============================] - 0s 4ms/step - loss: 31225896.0000 - val_loss: 35629324.0000\n",
      "Epoch 217/300\n",
      "37/37 [==============================] - 0s 4ms/step - loss: 31189470.0000 - val_loss: 35577408.0000\n",
      "Epoch 218/300\n",
      "37/37 [==============================] - 0s 4ms/step - loss: 31235568.0000 - val_loss: 35638692.0000\n",
      "Epoch 219/300\n",
      "37/37 [==============================] - 0s 4ms/step - loss: 31172052.0000 - val_loss: 35636152.0000\n",
      "Epoch 220/300\n",
      "37/37 [==============================] - 0s 4ms/step - loss: 31206694.0000 - val_loss: 35571536.0000\n",
      "Epoch 221/300\n",
      "37/37 [==============================] - 0s 4ms/step - loss: 31172874.0000 - val_loss: 35673012.0000\n",
      "Epoch 222/300\n",
      "37/37 [==============================] - 0s 4ms/step - loss: 31202184.0000 - val_loss: 35525460.0000\n",
      "Epoch 223/300\n",
      "37/37 [==============================] - 0s 4ms/step - loss: 31155482.0000 - val_loss: 35533248.0000\n",
      "Epoch 224/300\n",
      "37/37 [==============================] - 0s 4ms/step - loss: 31141286.0000 - val_loss: 35552952.0000\n",
      "Epoch 225/300\n",
      "37/37 [==============================] - 0s 4ms/step - loss: 31175764.0000 - val_loss: 35621056.0000\n",
      "Epoch 226/300\n",
      "37/37 [==============================] - 0s 4ms/step - loss: 31152294.0000 - val_loss: 35535676.0000\n",
      "Epoch 227/300\n",
      "37/37 [==============================] - 0s 4ms/step - loss: 31122264.0000 - val_loss: 35530136.0000\n",
      "Epoch 228/300\n",
      "37/37 [==============================] - 0s 4ms/step - loss: 31114798.0000 - val_loss: 35468492.0000\n",
      "Epoch 229/300\n",
      "37/37 [==============================] - 0s 4ms/step - loss: 31074488.0000 - val_loss: 35453116.0000\n",
      "Epoch 230/300\n",
      "37/37 [==============================] - 0s 4ms/step - loss: 31084382.0000 - val_loss: 35449456.0000\n",
      "Epoch 231/300\n",
      "37/37 [==============================] - 0s 5ms/step - loss: 31066734.0000 - val_loss: 35522324.0000\n",
      "Epoch 232/300\n",
      "37/37 [==============================] - 0s 4ms/step - loss: 31035200.0000 - val_loss: 35444596.0000\n",
      "Epoch 233/300\n",
      "37/37 [==============================] - 0s 4ms/step - loss: 31037748.0000 - val_loss: 35405632.0000\n",
      "Epoch 234/300\n",
      "37/37 [==============================] - 0s 4ms/step - loss: 31014428.0000 - val_loss: 35409796.0000\n",
      "Epoch 235/300\n",
      "37/37 [==============================] - 0s 4ms/step - loss: 30979430.0000 - val_loss: 35385472.0000\n",
      "Epoch 236/300\n",
      "37/37 [==============================] - 0s 4ms/step - loss: 31031200.0000 - val_loss: 35362532.0000\n",
      "Epoch 237/300\n",
      "37/37 [==============================] - 0s 4ms/step - loss: 31011364.0000 - val_loss: 35397572.0000\n",
      "Epoch 238/300\n",
      "37/37 [==============================] - 0s 4ms/step - loss: 30972048.0000 - val_loss: 35395804.0000\n",
      "Epoch 239/300\n",
      "37/37 [==============================] - 0s 4ms/step - loss: 31029694.0000 - val_loss: 35336172.0000\n",
      "Epoch 240/300\n",
      "37/37 [==============================] - 0s 4ms/step - loss: 30943564.0000 - val_loss: 35322148.0000\n",
      "Epoch 241/300\n",
      "37/37 [==============================] - 0s 4ms/step - loss: 30954906.0000 - val_loss: 35418588.0000\n",
      "Epoch 242/300\n",
      "37/37 [==============================] - 0s 4ms/step - loss: 30959416.0000 - val_loss: 35319652.0000\n",
      "Epoch 243/300\n",
      "37/37 [==============================] - 0s 4ms/step - loss: 30971212.0000 - val_loss: 35271340.0000\n",
      "Epoch 244/300\n",
      "37/37 [==============================] - 0s 5ms/step - loss: 30956368.0000 - val_loss: 35266340.0000\n",
      "Epoch 245/300\n",
      "37/37 [==============================] - 0s 4ms/step - loss: 30948290.0000 - val_loss: 35262064.0000\n",
      "Epoch 246/300\n",
      "37/37 [==============================] - 0s 4ms/step - loss: 31009012.0000 - val_loss: 35307212.0000\n",
      "Epoch 247/300\n",
      "37/37 [==============================] - 0s 4ms/step - loss: 30928382.0000 - val_loss: 35235900.0000\n",
      "Epoch 248/300\n",
      "37/37 [==============================] - 0s 4ms/step - loss: 30892644.0000 - val_loss: 35279852.0000\n",
      "Epoch 249/300\n",
      "37/37 [==============================] - 0s 4ms/step - loss: 30916470.0000 - val_loss: 35297364.0000\n",
      "Epoch 250/300\n",
      "37/37 [==============================] - 0s 4ms/step - loss: 30889844.0000 - val_loss: 35257844.0000\n",
      "Epoch 251/300\n",
      "37/37 [==============================] - 0s 4ms/step - loss: 30890608.0000 - val_loss: 35234796.0000\n",
      "Epoch 252/300\n",
      "37/37 [==============================] - 0s 4ms/step - loss: 30911614.0000 - val_loss: 35174556.0000\n",
      "Epoch 253/300\n",
      "37/37 [==============================] - 0s 4ms/step - loss: 30912396.0000 - val_loss: 35219860.0000\n",
      "Epoch 254/300\n",
      "37/37 [==============================] - 0s 4ms/step - loss: 30837300.0000 - val_loss: 35324368.0000\n",
      "Epoch 255/300\n",
      "37/37 [==============================] - 0s 4ms/step - loss: 30851256.0000 - val_loss: 35168856.0000\n",
      "Epoch 256/300\n",
      "37/37 [==============================] - 0s 4ms/step - loss: 30864858.0000 - val_loss: 35153760.0000\n",
      "Epoch 257/300\n",
      "37/37 [==============================] - 0s 4ms/step - loss: 30851498.0000 - val_loss: 35150360.0000\n",
      "Epoch 258/300\n",
      "37/37 [==============================] - 0s 4ms/step - loss: 30850288.0000 - val_loss: 35199404.0000\n",
      "Epoch 259/300\n",
      "37/37 [==============================] - 0s 4ms/step - loss: 30821720.0000 - val_loss: 35149500.0000\n",
      "Epoch 260/300\n",
      "37/37 [==============================] - 0s 4ms/step - loss: 30761830.0000 - val_loss: 35148584.0000\n",
      "Epoch 261/300\n",
      "37/37 [==============================] - 0s 4ms/step - loss: 30782512.0000 - val_loss: 35130400.0000\n",
      "Epoch 262/300\n",
      "37/37 [==============================] - 0s 4ms/step - loss: 30772592.0000 - val_loss: 35111260.0000\n",
      "Epoch 263/300\n",
      "37/37 [==============================] - 0s 4ms/step - loss: 30786594.0000 - val_loss: 35124284.0000\n",
      "Epoch 264/300\n",
      "37/37 [==============================] - 0s 4ms/step - loss: 30787928.0000 - val_loss: 35088000.0000\n",
      "Epoch 265/300\n",
      "37/37 [==============================] - 0s 4ms/step - loss: 30721076.0000 - val_loss: 35065116.0000\n",
      "Epoch 266/300\n",
      "37/37 [==============================] - 0s 4ms/step - loss: 30741330.0000 - val_loss: 35141392.0000\n",
      "Epoch 267/300\n",
      "37/37 [==============================] - 0s 4ms/step - loss: 30723478.0000 - val_loss: 35032580.0000\n",
      "Epoch 268/300\n",
      "37/37 [==============================] - 0s 4ms/step - loss: 30710478.0000 - val_loss: 35081128.0000\n",
      "Epoch 269/300\n",
      "37/37 [==============================] - 0s 4ms/step - loss: 30754714.0000 - val_loss: 35137496.0000\n",
      "Epoch 270/300\n",
      "37/37 [==============================] - 0s 4ms/step - loss: 30716280.0000 - val_loss: 35026644.0000\n",
      "Epoch 271/300\n",
      "37/37 [==============================] - 0s 4ms/step - loss: 30679038.0000 - val_loss: 35015376.0000\n",
      "Epoch 272/300\n",
      "37/37 [==============================] - 0s 4ms/step - loss: 30643560.0000 - val_loss: 35021116.0000\n",
      "Epoch 273/300\n",
      "37/37 [==============================] - 0s 4ms/step - loss: 30645930.0000 - val_loss: 35005928.0000\n",
      "Epoch 274/300\n",
      "37/37 [==============================] - 0s 4ms/step - loss: 30689764.0000 - val_loss: 35171684.0000\n",
      "Epoch 275/300\n",
      "37/37 [==============================] - 0s 4ms/step - loss: 30760780.0000 - val_loss: 35005640.0000\n",
      "Epoch 276/300\n",
      "37/37 [==============================] - 0s 4ms/step - loss: 30683258.0000 - val_loss: 34958380.0000\n",
      "Epoch 277/300\n",
      "37/37 [==============================] - 0s 4ms/step - loss: 30722418.0000 - val_loss: 34978220.0000\n",
      "Epoch 278/300\n",
      "37/37 [==============================] - 0s 4ms/step - loss: 30635454.0000 - val_loss: 34969388.0000\n",
      "Epoch 279/300\n",
      "37/37 [==============================] - 0s 4ms/step - loss: 30634818.0000 - val_loss: 34924832.0000\n",
      "Epoch 280/300\n",
      "37/37 [==============================] - 0s 4ms/step - loss: 30628078.0000 - val_loss: 34919252.0000\n",
      "Epoch 281/300\n",
      "37/37 [==============================] - 0s 4ms/step - loss: 30613990.0000 - val_loss: 34916468.0000\n",
      "Epoch 282/300\n",
      "37/37 [==============================] - 0s 4ms/step - loss: 30590938.0000 - val_loss: 34925488.0000\n",
      "Epoch 283/300\n",
      "37/37 [==============================] - 0s 4ms/step - loss: 30625316.0000 - val_loss: 34886480.0000\n",
      "Epoch 284/300\n",
      "37/37 [==============================] - 0s 4ms/step - loss: 30593508.0000 - val_loss: 34881224.0000\n",
      "Epoch 285/300\n"
     ]
    },
    {
     "name": "stdout",
     "output_type": "stream",
     "text": [
      "37/37 [==============================] - 0s 4ms/step - loss: 30601850.0000 - val_loss: 34939216.0000\n",
      "Epoch 286/300\n",
      "37/37 [==============================] - 0s 4ms/step - loss: 30633834.0000 - val_loss: 35023972.0000\n",
      "Epoch 287/300\n",
      "37/37 [==============================] - 0s 4ms/step - loss: 30558078.0000 - val_loss: 34856996.0000\n",
      "Epoch 288/300\n",
      "37/37 [==============================] - 0s 4ms/step - loss: 30576194.0000 - val_loss: 34854772.0000\n",
      "Epoch 289/300\n",
      "37/37 [==============================] - 0s 4ms/step - loss: 30571888.0000 - val_loss: 34834992.0000\n",
      "Epoch 290/300\n",
      "37/37 [==============================] - 0s 4ms/step - loss: 30588640.0000 - val_loss: 34867856.0000\n",
      "Epoch 291/300\n",
      "37/37 [==============================] - 0s 4ms/step - loss: 30546360.0000 - val_loss: 34860056.0000\n",
      "Epoch 292/300\n",
      "37/37 [==============================] - 0s 4ms/step - loss: 30557558.0000 - val_loss: 34828556.0000\n",
      "Epoch 293/300\n",
      "37/37 [==============================] - 0s 4ms/step - loss: 30537196.0000 - val_loss: 34879552.0000\n",
      "Epoch 294/300\n",
      "37/37 [==============================] - 0s 4ms/step - loss: 30532226.0000 - val_loss: 34814228.0000\n",
      "Epoch 295/300\n",
      "37/37 [==============================] - 0s 4ms/step - loss: 30492674.0000 - val_loss: 34811096.0000\n",
      "Epoch 296/300\n",
      "37/37 [==============================] - 0s 4ms/step - loss: 30495590.0000 - val_loss: 34795256.0000\n",
      "Epoch 297/300\n",
      "37/37 [==============================] - 0s 4ms/step - loss: 30487250.0000 - val_loss: 34911324.0000\n",
      "Epoch 298/300\n",
      "37/37 [==============================] - 0s 4ms/step - loss: 30579056.0000 - val_loss: 34880888.0000\n",
      "Epoch 299/300\n",
      "37/37 [==============================] - 0s 4ms/step - loss: 30524044.0000 - val_loss: 34756376.0000\n",
      "Epoch 300/300\n",
      "37/37 [==============================] - 0s 4ms/step - loss: 30455706.0000 - val_loss: 34753344.0000\n"
     ]
    },
    {
     "data": {
      "text/plain": [
       "<keras.callbacks.History at 0x1be2a1021a0>"
      ]
     },
     "execution_count": 31,
     "metadata": {},
     "output_type": "execute_result"
    }
   ],
   "source": [
    "model.fit(x=x_train, y = y_train, validation_data=(x_test, y_test), batch_size=250, epochs =300)"
   ]
  },
  {
   "cell_type": "code",
   "execution_count": 32,
   "id": "653691e0",
   "metadata": {},
   "outputs": [],
   "source": [
    "kayipVerisi= pd.DataFrame(model.history.history)"
   ]
  },
  {
   "cell_type": "code",
   "execution_count": 33,
   "id": "b6419bb9",
   "metadata": {},
   "outputs": [
    {
     "data": {
      "text/html": [
       "<div>\n",
       "<style scoped>\n",
       "    .dataframe tbody tr th:only-of-type {\n",
       "        vertical-align: middle;\n",
       "    }\n",
       "\n",
       "    .dataframe tbody tr th {\n",
       "        vertical-align: top;\n",
       "    }\n",
       "\n",
       "    .dataframe thead th {\n",
       "        text-align: right;\n",
       "    }\n",
       "</style>\n",
       "<table border=\"1\" class=\"dataframe\">\n",
       "  <thead>\n",
       "    <tr style=\"text-align: right;\">\n",
       "      <th></th>\n",
       "      <th>loss</th>\n",
       "      <th>val_loss</th>\n",
       "    </tr>\n",
       "  </thead>\n",
       "  <tbody>\n",
       "    <tr>\n",
       "      <th>0</th>\n",
       "      <td>741832832.0</td>\n",
       "      <td>769842304.0</td>\n",
       "    </tr>\n",
       "    <tr>\n",
       "      <th>1</th>\n",
       "      <td>741750720.0</td>\n",
       "      <td>769679296.0</td>\n",
       "    </tr>\n",
       "    <tr>\n",
       "      <th>2</th>\n",
       "      <td>741371328.0</td>\n",
       "      <td>768912768.0</td>\n",
       "    </tr>\n",
       "    <tr>\n",
       "      <th>3</th>\n",
       "      <td>739766272.0</td>\n",
       "      <td>765964672.0</td>\n",
       "    </tr>\n",
       "    <tr>\n",
       "      <th>4</th>\n",
       "      <td>734432448.0</td>\n",
       "      <td>757086592.0</td>\n",
       "    </tr>\n",
       "  </tbody>\n",
       "</table>\n",
       "</div>"
      ],
      "text/plain": [
       "          loss     val_loss\n",
       "0  741832832.0  769842304.0\n",
       "1  741750720.0  769679296.0\n",
       "2  741371328.0  768912768.0\n",
       "3  739766272.0  765964672.0\n",
       "4  734432448.0  757086592.0"
      ]
     },
     "execution_count": 33,
     "metadata": {},
     "output_type": "execute_result"
    }
   ],
   "source": [
    "kayipVerisi.head()"
   ]
  },
  {
   "cell_type": "code",
   "execution_count": 34,
   "id": "aa576750",
   "metadata": {},
   "outputs": [
    {
     "data": {
      "text/plain": [
       "<Axes: >"
      ]
     },
     "execution_count": 34,
     "metadata": {},
     "output_type": "execute_result"
    },
    {
     "data": {
      "image/png": "[encoded data removed]",
      "text/plain": [
       "<Figure size 640x480 with 1 Axes>"
      ]
     },
     "metadata": {},
     "output_type": "display_data"
    }
   ],
   "source": [
    "kayipVerisi.plot()"
   ]
  },
  {
   "cell_type": "code",
   "execution_count": 35,
   "id": "1b5d2c0c",
   "metadata": {},
   "outputs": [],
   "source": [
    "from sklearn.metrics import mean_squared_error, mean_absolute_error"
   ]
  },
  {
   "cell_type": "code",
   "execution_count": 36,
   "id": "83fc50fb",
   "metadata": {},
   "outputs": [
    {
     "name": "stdout",
     "output_type": "stream",
     "text": [
      "123/123 [==============================] - 0s 2ms/step\n"
     ]
    }
   ],
   "source": [
    "tahminDizisi= model.predict(x_test)"
   ]
  },
  {
   "cell_type": "code",
   "execution_count": 37,
   "id": "8008a4b3",
   "metadata": {},
   "outputs": [
    {
     "data": {
      "text/plain": [
       "array([[38919.188],\n",
       "       [28939.69 ],\n",
       "       [40264.27 ],\n",
       "       ...,\n",
       "       [23486.467],\n",
       "       [19042.854],\n",
       "       [21202.256]], dtype=float32)"
      ]
     },
     "execution_count": 37,
     "metadata": {},
     "output_type": "execute_result"
    }
   ],
   "source": [
    "tahminDizisi"
   ]
  },
  {
   "cell_type": "code",
   "execution_count": 38,
   "id": "a45a92f5",
   "metadata": {},
   "outputs": [
    {
     "data": {
      "text/plain": [
       "3725.7522982465543"
      ]
     },
     "execution_count": 38,
     "metadata": {},
     "output_type": "execute_result"
    }
   ],
   "source": [
    "mean_absolute_error(y_test, tahminDizisi)"
   ]
  },
  {
   "cell_type": "code",
   "execution_count": 39,
   "id": "106adfe9",
   "metadata": {},
   "outputs": [
    {
     "data": {
      "text/html": [
       "<div>\n",
       "<style scoped>\n",
       "    .dataframe tbody tr th:only-of-type {\n",
       "        vertical-align: middle;\n",
       "    }\n",
       "\n",
       "    .dataframe tbody tr th {\n",
       "        vertical-align: top;\n",
       "    }\n",
       "\n",
       "    .dataframe thead th {\n",
       "        text-align: right;\n",
       "    }\n",
       "</style>\n",
       "<table border=\"1\" class=\"dataframe\">\n",
       "  <thead>\n",
       "    <tr style=\"text-align: right;\">\n",
       "      <th></th>\n",
       "      <th>year</th>\n",
       "      <th>price</th>\n",
       "      <th>mileage</th>\n",
       "      <th>tax</th>\n",
       "      <th>mpg</th>\n",
       "      <th>engineSize</th>\n",
       "    </tr>\n",
       "  </thead>\n",
       "  <tbody>\n",
       "    <tr>\n",
       "      <th>count</th>\n",
       "      <td>13119.000000</td>\n",
       "      <td>13119.000000</td>\n",
       "      <td>13119.000000</td>\n",
       "      <td>13119.000000</td>\n",
       "      <td>13119.000000</td>\n",
       "      <td>13119.000000</td>\n",
       "    </tr>\n",
       "    <tr>\n",
       "      <th>mean</th>\n",
       "      <td>2017.296288</td>\n",
       "      <td>24698.596920</td>\n",
       "      <td>21949.559037</td>\n",
       "      <td>129.972178</td>\n",
       "      <td>55.155843</td>\n",
       "      <td>2.071530</td>\n",
       "    </tr>\n",
       "    <tr>\n",
       "      <th>std</th>\n",
       "      <td>2.224709</td>\n",
       "      <td>11842.675542</td>\n",
       "      <td>21176.512267</td>\n",
       "      <td>65.260286</td>\n",
       "      <td>15.220082</td>\n",
       "      <td>0.572426</td>\n",
       "    </tr>\n",
       "    <tr>\n",
       "      <th>min</th>\n",
       "      <td>1970.000000</td>\n",
       "      <td>650.000000</td>\n",
       "      <td>1.000000</td>\n",
       "      <td>0.000000</td>\n",
       "      <td>1.100000</td>\n",
       "      <td>0.000000</td>\n",
       "    </tr>\n",
       "    <tr>\n",
       "      <th>25%</th>\n",
       "      <td>2016.000000</td>\n",
       "      <td>17450.000000</td>\n",
       "      <td>6097.500000</td>\n",
       "      <td>125.000000</td>\n",
       "      <td>45.600000</td>\n",
       "      <td>1.800000</td>\n",
       "    </tr>\n",
       "    <tr>\n",
       "      <th>50%</th>\n",
       "      <td>2018.000000</td>\n",
       "      <td>22480.000000</td>\n",
       "      <td>15189.000000</td>\n",
       "      <td>145.000000</td>\n",
       "      <td>56.500000</td>\n",
       "      <td>2.000000</td>\n",
       "    </tr>\n",
       "    <tr>\n",
       "      <th>75%</th>\n",
       "      <td>2019.000000</td>\n",
       "      <td>28980.000000</td>\n",
       "      <td>31779.500000</td>\n",
       "      <td>145.000000</td>\n",
       "      <td>64.200000</td>\n",
       "      <td>2.100000</td>\n",
       "    </tr>\n",
       "    <tr>\n",
       "      <th>max</th>\n",
       "      <td>2020.000000</td>\n",
       "      <td>159999.000000</td>\n",
       "      <td>259000.000000</td>\n",
       "      <td>580.000000</td>\n",
       "      <td>217.300000</td>\n",
       "      <td>6.200000</td>\n",
       "    </tr>\n",
       "  </tbody>\n",
       "</table>\n",
       "</div>"
      ],
      "text/plain": [
       "               year          price        mileage           tax           mpg  \\\n",
       "count  13119.000000   13119.000000   13119.000000  13119.000000  13119.000000   \n",
       "mean    2017.296288   24698.596920   21949.559037    129.972178     55.155843   \n",
       "std        2.224709   11842.675542   21176.512267     65.260286     15.220082   \n",
       "min     1970.000000     650.000000       1.000000      0.000000      1.100000   \n",
       "25%     2016.000000   17450.000000    6097.500000    125.000000     45.600000   \n",
       "50%     2018.000000   22480.000000   15189.000000    145.000000     56.500000   \n",
       "75%     2019.000000   28980.000000   31779.500000    145.000000     64.200000   \n",
       "max     2020.000000  159999.000000  259000.000000    580.000000    217.300000   \n",
       "\n",
       "         engineSize  \n",
       "count  13119.000000  \n",
       "mean       2.071530  \n",
       "std        0.572426  \n",
       "min        0.000000  \n",
       "25%        1.800000  \n",
       "50%        2.000000  \n",
       "75%        2.100000  \n",
       "max        6.200000  "
      ]
     },
     "execution_count": 39,
     "metadata": {},
     "output_type": "execute_result"
    }
   ],
   "source": [
    "dataFrame.describe()"
   ]
  },
  {
   "cell_type": "code",
   "execution_count": 41,
   "id": "175e5459",
   "metadata": {},
   "outputs": [
    {
     "data": {
      "text/plain": [
       "[<matplotlib.lines.Line2D at 0x1be2f9e08e0>]"
      ]
     },
     "execution_count": 41,
     "metadata": {},
     "output_type": "execute_result"
    },
    {
     "data": {
      "image/png": "[encoded data removed]",
      "text/plain": [
       "<Figure size 640x480 with 1 Axes>"
      ]
     },
     "metadata": {},
     "output_type": "display_data"
    }
   ],
   "source": [
    "plt.scatter(y_test, tahminDizisi)\n",
    "plt.plot(y_test, y_test, \"g-*\")"
   ]
  },
  {
   "cell_type": "code",
   "execution_count": 43,
   "id": "0568d338",
   "metadata": {},
   "outputs": [
    {
     "data": {
      "text/plain": [
       "year           2016.0\n",
       "price         49948.0\n",
       "mileage        6200.0\n",
       "tax             555.0\n",
       "mpg              28.0\n",
       "engineSize        5.5\n",
       "Name: 2, dtype: float64"
      ]
     },
     "execution_count": 43,
     "metadata": {},
     "output_type": "execute_result"
    }
   ],
   "source": [
    "dataFrame.iloc[2]"
   ]
  },
  {
   "cell_type": "code",
   "execution_count": 44,
   "id": "8fdf15f1",
   "metadata": {},
   "outputs": [],
   "source": [
    "yeniAraba = dataFrame.drop(\"price\", axis=1).iloc[2]"
   ]
  },
  {
   "cell_type": "code",
   "execution_count": 46,
   "id": "376e1341",
   "metadata": {},
   "outputs": [],
   "source": [
    "yeniAraba= scaler.transform(yeniAraba.values.reshape(-1,5))"
   ]
  },
  {
   "cell_type": "code",
   "execution_count": 47,
   "id": "1145528f",
   "metadata": {},
   "outputs": [
    {
     "name": "stdout",
     "output_type": "stream",
     "text": [
      "1/1 [==============================] - 0s 85ms/step\n"
     ]
    },
    {
     "data": {
      "text/plain": [
       "array([[62523.215]], dtype=float32)"
      ]
     },
     "execution_count": 47,
     "metadata": {},
     "output_type": "execute_result"
    }
   ],
   "source": [
    "model.predict(yeniAraba)"
   ]
  },
  {
   "cell_type": "code",
   "execution_count": null,
   "id": "a6a137f8",
   "metadata": {},
   "outputs": [],
   "source": []
  }
 ],
 "metadata": {
  "kernelspec": {
   "display_name": "Python 3 (ipykernel)",
   "language": "python",
   "name": "python3"
  },
  "language_info": {
   "codemirror_mode": {
    "name": "ipython",
    "version": 3
   },
   "file_extension": ".py",
   "mimetype": "text/x-python",
   "name": "python",
   "nbconvert_exporter": "python",
   "pygments_lexer": "ipython3",
   "version": "3.10.12"
  }
 },
 "nbformat": 4,
 "nbformat_minor": 5
}
