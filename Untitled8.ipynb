{
  "nbformat": 4,
  "nbformat_minor": 0,
  "metadata": {
    "colab": {
      "provenance": [],
      "mount_file_id": "1o8gtJfi9-YfWUi8XVNefz6CPKLiqRgfb",
      "authorship_tag": "ABX9TyPZEAb8mpx98eNyB4xKHzxm",
      "include_colab_link": true
    },
    "kernelspec": {
      "name": "python3",
      "display_name": "Python 3"
    },
    "language_info": {
      "name": "python"
    }
  },
  "cells": [
    {
      "cell_type": "markdown",
      "metadata": {
        "id": "view-in-github",
        "colab_type": "text"
      },
      "source": [
        "<a href=\"https://colab.research.google.com/github/mrarat76/Data-Analysis-practises/blob/main/Untitled8.ipynb\" target=\"_parent\"><img src=\"https://colab.research.google.com/assets/colab-badge.svg\" alt=\"Open In Colab\"/></a>"
      ]
    },
    {
      "cell_type": "code",
      "source": [
        "!pip install flask\n",
        "!pip install python-dotenv\n",
        "!pip install requests\n",
        "!pip install openai\n",
        "!pip install pillow\n",
        "!pip install pytesseract\n",
        "!pip install PyMuPDF\n",
        "!pip install google-cloud-vision\n",
        "!pip install google-cloud-storage\n",
        "!pip install pdf2image\n"
      ],
      "metadata": {
        "colab": {
          "base_uri": "https://localhost:8080/"
        },
        "id": "0EJdWO_2JE_C",
        "outputId": "53b404ed-d55e-4c6c-ac7a-39c0e2065188"
      },
      "execution_count": null,
      "outputs": [
        {
          "output_type": "stream",
          "name": "stdout",
          "text": [
            "Requirement already satisfied: flask in /usr/local/lib/python3.10/dist-packages (2.2.5)\n",
            "Requirement already satisfied: Werkzeug>=2.2.2 in /usr/local/lib/python3.10/dist-packages (from flask) (3.0.1)\n",
            "Requirement already satisfied: Jinja2>=3.0 in /usr/local/lib/python3.10/dist-packages (from flask) (3.1.2)\n",
            "Requirement already satisfied: itsdangerous>=2.0 in /usr/local/lib/python3.10/dist-packages (from flask) (2.1.2)\n",
            "Requirement already satisfied: click>=8.0 in /usr/local/lib/python3.10/dist-packages (from flask) (8.1.7)\n",
            "Requirement already satisfied: MarkupSafe>=2.0 in /usr/local/lib/python3.10/dist-packages (from Jinja2>=3.0->flask) (2.1.3)\n",
            "Requirement already satisfied: python-dotenv in /usr/local/lib/python3.10/dist-packages (1.0.0)\n",
            "Requirement already satisfied: requests in /usr/local/lib/python3.10/dist-packages (2.31.0)\n",
            "Requirement already satisfied: charset-normalizer<4,>=2 in /usr/local/lib/python3.10/dist-packages (from requests) (3.3.1)\n",
            "Requirement already satisfied: idna<4,>=2.5 in /usr/local/lib/python3.10/dist-packages (from requests) (3.4)\n",
            "Requirement already satisfied: urllib3<3,>=1.21.1 in /usr/local/lib/python3.10/dist-packages (from requests) (2.0.7)\n",
            "Requirement already satisfied: certifi>=2017.4.17 in /usr/local/lib/python3.10/dist-packages (from requests) (2023.7.22)\n",
            "Requirement already satisfied: openai in /usr/local/lib/python3.10/dist-packages (0.28.1)\n",
            "Requirement already satisfied: requests>=2.20 in /usr/local/lib/python3.10/dist-packages (from openai) (2.31.0)\n",
            "Requirement already satisfied: tqdm in /usr/local/lib/python3.10/dist-packages (from openai) (4.66.1)\n",
            "Requirement already satisfied: aiohttp in /usr/local/lib/python3.10/dist-packages (from openai) (3.8.6)\n",
            "Requirement already satisfied: charset-normalizer<4,>=2 in /usr/local/lib/python3.10/dist-packages (from requests>=2.20->openai) (3.3.1)\n",
            "Requirement already satisfied: idna<4,>=2.5 in /usr/local/lib/python3.10/dist-packages (from requests>=2.20->openai) (3.4)\n",
            "Requirement already satisfied: urllib3<3,>=1.21.1 in /usr/local/lib/python3.10/dist-packages (from requests>=2.20->openai) (2.0.7)\n",
            "Requirement already satisfied: certifi>=2017.4.17 in /usr/local/lib/python3.10/dist-packages (from requests>=2.20->openai) (2023.7.22)\n",
            "Requirement already satisfied: attrs>=17.3.0 in /usr/local/lib/python3.10/dist-packages (from aiohttp->openai) (23.1.0)\n",
            "Requirement already satisfied: multidict<7.0,>=4.5 in /usr/local/lib/python3.10/dist-packages (from aiohttp->openai) (6.0.4)\n",
            "Requirement already satisfied: async-timeout<5.0,>=4.0.0a3 in /usr/local/lib/python3.10/dist-packages (from aiohttp->openai) (4.0.3)\n",
            "Requirement already satisfied: yarl<2.0,>=1.0 in /usr/local/lib/python3.10/dist-packages (from aiohttp->openai) (1.9.2)\n",
            "Requirement already satisfied: frozenlist>=1.1.1 in /usr/local/lib/python3.10/dist-packages (from aiohttp->openai) (1.4.0)\n",
            "Requirement already satisfied: aiosignal>=1.1.2 in /usr/local/lib/python3.10/dist-packages (from aiohttp->openai) (1.3.1)\n",
            "Requirement already satisfied: pillow in /usr/local/lib/python3.10/dist-packages (9.4.0)\n",
            "Requirement already satisfied: pytesseract in /usr/local/lib/python3.10/dist-packages (0.3.10)\n",
            "Requirement already satisfied: packaging>=21.3 in /usr/local/lib/python3.10/dist-packages (from pytesseract) (23.2)\n",
            "Requirement already satisfied: Pillow>=8.0.0 in /usr/local/lib/python3.10/dist-packages (from pytesseract) (9.4.0)\n",
            "Requirement already satisfied: PyMuPDF in /usr/local/lib/python3.10/dist-packages (1.23.5)\n",
            "Requirement already satisfied: PyMuPDFb==1.23.5 in /usr/local/lib/python3.10/dist-packages (from PyMuPDF) (1.23.5)\n",
            "Requirement already satisfied: google-cloud-vision in /usr/local/lib/python3.10/dist-packages (3.4.5)\n",
            "Requirement already satisfied: google-api-core[grpc]!=2.0.*,!=2.1.*,!=2.10.*,!=2.2.*,!=2.3.*,!=2.4.*,!=2.5.*,!=2.6.*,!=2.7.*,!=2.8.*,!=2.9.*,<3.0.0dev,>=1.34.0 in /usr/local/lib/python3.10/dist-packages (from google-cloud-vision) (2.11.1)\n",
            "Requirement already satisfied: proto-plus<2.0.0dev,>=1.22.0 in /usr/local/lib/python3.10/dist-packages (from google-cloud-vision) (1.22.3)\n",
            "Requirement already satisfied: protobuf!=3.20.0,!=3.20.1,!=4.21.0,!=4.21.1,!=4.21.2,!=4.21.3,!=4.21.4,!=4.21.5,<5.0.0dev,>=3.19.5 in /usr/local/lib/python3.10/dist-packages (from google-cloud-vision) (3.20.3)\n",
            "Requirement already satisfied: googleapis-common-protos<2.0.dev0,>=1.56.2 in /usr/local/lib/python3.10/dist-packages (from google-api-core[grpc]!=2.0.*,!=2.1.*,!=2.10.*,!=2.2.*,!=2.3.*,!=2.4.*,!=2.5.*,!=2.6.*,!=2.7.*,!=2.8.*,!=2.9.*,<3.0.0dev,>=1.34.0->google-cloud-vision) (1.61.0)\n",
            "Requirement already satisfied: google-auth<3.0.dev0,>=2.14.1 in /usr/local/lib/python3.10/dist-packages (from google-api-core[grpc]!=2.0.*,!=2.1.*,!=2.10.*,!=2.2.*,!=2.3.*,!=2.4.*,!=2.5.*,!=2.6.*,!=2.7.*,!=2.8.*,!=2.9.*,<3.0.0dev,>=1.34.0->google-cloud-vision) (2.17.3)\n",
            "Requirement already satisfied: requests<3.0.0.dev0,>=2.18.0 in /usr/local/lib/python3.10/dist-packages (from google-api-core[grpc]!=2.0.*,!=2.1.*,!=2.10.*,!=2.2.*,!=2.3.*,!=2.4.*,!=2.5.*,!=2.6.*,!=2.7.*,!=2.8.*,!=2.9.*,<3.0.0dev,>=1.34.0->google-cloud-vision) (2.31.0)\n",
            "Requirement already satisfied: grpcio<2.0dev,>=1.33.2 in /usr/local/lib/python3.10/dist-packages (from google-api-core[grpc]!=2.0.*,!=2.1.*,!=2.10.*,!=2.2.*,!=2.3.*,!=2.4.*,!=2.5.*,!=2.6.*,!=2.7.*,!=2.8.*,!=2.9.*,<3.0.0dev,>=1.34.0->google-cloud-vision) (1.59.0)\n",
            "Requirement already satisfied: grpcio-status<2.0.dev0,>=1.33.2 in /usr/local/lib/python3.10/dist-packages (from google-api-core[grpc]!=2.0.*,!=2.1.*,!=2.10.*,!=2.2.*,!=2.3.*,!=2.4.*,!=2.5.*,!=2.6.*,!=2.7.*,!=2.8.*,!=2.9.*,<3.0.0dev,>=1.34.0->google-cloud-vision) (1.48.2)\n",
            "Requirement already satisfied: cachetools<6.0,>=2.0.0 in /usr/local/lib/python3.10/dist-packages (from google-auth<3.0.dev0,>=2.14.1->google-api-core[grpc]!=2.0.*,!=2.1.*,!=2.10.*,!=2.2.*,!=2.3.*,!=2.4.*,!=2.5.*,!=2.6.*,!=2.7.*,!=2.8.*,!=2.9.*,<3.0.0dev,>=1.34.0->google-cloud-vision) (5.3.2)\n",
            "Requirement already satisfied: pyasn1-modules>=0.2.1 in /usr/local/lib/python3.10/dist-packages (from google-auth<3.0.dev0,>=2.14.1->google-api-core[grpc]!=2.0.*,!=2.1.*,!=2.10.*,!=2.2.*,!=2.3.*,!=2.4.*,!=2.5.*,!=2.6.*,!=2.7.*,!=2.8.*,!=2.9.*,<3.0.0dev,>=1.34.0->google-cloud-vision) (0.3.0)\n",
            "Requirement already satisfied: six>=1.9.0 in /usr/local/lib/python3.10/dist-packages (from google-auth<3.0.dev0,>=2.14.1->google-api-core[grpc]!=2.0.*,!=2.1.*,!=2.10.*,!=2.2.*,!=2.3.*,!=2.4.*,!=2.5.*,!=2.6.*,!=2.7.*,!=2.8.*,!=2.9.*,<3.0.0dev,>=1.34.0->google-cloud-vision) (1.16.0)\n",
            "Requirement already satisfied: rsa<5,>=3.1.4 in /usr/local/lib/python3.10/dist-packages (from google-auth<3.0.dev0,>=2.14.1->google-api-core[grpc]!=2.0.*,!=2.1.*,!=2.10.*,!=2.2.*,!=2.3.*,!=2.4.*,!=2.5.*,!=2.6.*,!=2.7.*,!=2.8.*,!=2.9.*,<3.0.0dev,>=1.34.0->google-cloud-vision) (4.9)\n",
            "Requirement already satisfied: charset-normalizer<4,>=2 in /usr/local/lib/python3.10/dist-packages (from requests<3.0.0.dev0,>=2.18.0->google-api-core[grpc]!=2.0.*,!=2.1.*,!=2.10.*,!=2.2.*,!=2.3.*,!=2.4.*,!=2.5.*,!=2.6.*,!=2.7.*,!=2.8.*,!=2.9.*,<3.0.0dev,>=1.34.0->google-cloud-vision) (3.3.1)\n",
            "Requirement already satisfied: idna<4,>=2.5 in /usr/local/lib/python3.10/dist-packages (from requests<3.0.0.dev0,>=2.18.0->google-api-core[grpc]!=2.0.*,!=2.1.*,!=2.10.*,!=2.2.*,!=2.3.*,!=2.4.*,!=2.5.*,!=2.6.*,!=2.7.*,!=2.8.*,!=2.9.*,<3.0.0dev,>=1.34.0->google-cloud-vision) (3.4)\n",
            "Requirement already satisfied: urllib3<3,>=1.21.1 in /usr/local/lib/python3.10/dist-packages (from requests<3.0.0.dev0,>=2.18.0->google-api-core[grpc]!=2.0.*,!=2.1.*,!=2.10.*,!=2.2.*,!=2.3.*,!=2.4.*,!=2.5.*,!=2.6.*,!=2.7.*,!=2.8.*,!=2.9.*,<3.0.0dev,>=1.34.0->google-cloud-vision) (2.0.7)\n",
            "Requirement already satisfied: certifi>=2017.4.17 in /usr/local/lib/python3.10/dist-packages (from requests<3.0.0.dev0,>=2.18.0->google-api-core[grpc]!=2.0.*,!=2.1.*,!=2.10.*,!=2.2.*,!=2.3.*,!=2.4.*,!=2.5.*,!=2.6.*,!=2.7.*,!=2.8.*,!=2.9.*,<3.0.0dev,>=1.34.0->google-cloud-vision) (2023.7.22)\n",
            "Requirement already satisfied: pyasn1<0.6.0,>=0.4.6 in /usr/local/lib/python3.10/dist-packages (from pyasn1-modules>=0.2.1->google-auth<3.0.dev0,>=2.14.1->google-api-core[grpc]!=2.0.*,!=2.1.*,!=2.10.*,!=2.2.*,!=2.3.*,!=2.4.*,!=2.5.*,!=2.6.*,!=2.7.*,!=2.8.*,!=2.9.*,<3.0.0dev,>=1.34.0->google-cloud-vision) (0.5.0)\n",
            "Requirement already satisfied: google-cloud-storage in /usr/local/lib/python3.10/dist-packages (2.8.0)\n",
            "Requirement already satisfied: google-auth<3.0dev,>=1.25.0 in /usr/local/lib/python3.10/dist-packages (from google-cloud-storage) (2.17.3)\n",
            "Requirement already satisfied: google-api-core!=2.0.*,!=2.1.*,!=2.2.*,!=2.3.0,<3.0.0dev,>=1.31.5 in /usr/local/lib/python3.10/dist-packages (from google-cloud-storage) (2.11.1)\n",
            "Requirement already satisfied: google-cloud-core<3.0dev,>=2.3.0 in /usr/local/lib/python3.10/dist-packages (from google-cloud-storage) (2.3.3)\n",
            "Requirement already satisfied: google-resumable-media>=2.3.2 in /usr/local/lib/python3.10/dist-packages (from google-cloud-storage) (2.6.0)\n",
            "Requirement already satisfied: requests<3.0.0dev,>=2.18.0 in /usr/local/lib/python3.10/dist-packages (from google-cloud-storage) (2.31.0)\n",
            "Requirement already satisfied: googleapis-common-protos<2.0.dev0,>=1.56.2 in /usr/local/lib/python3.10/dist-packages (from google-api-core!=2.0.*,!=2.1.*,!=2.2.*,!=2.3.0,<3.0.0dev,>=1.31.5->google-cloud-storage) (1.61.0)\n",
            "Requirement already satisfied: protobuf!=3.20.0,!=3.20.1,!=4.21.0,!=4.21.1,!=4.21.2,!=4.21.3,!=4.21.4,!=4.21.5,<5.0.0.dev0,>=3.19.5 in /usr/local/lib/python3.10/dist-packages (from google-api-core!=2.0.*,!=2.1.*,!=2.2.*,!=2.3.0,<3.0.0dev,>=1.31.5->google-cloud-storage) (3.20.3)\n",
            "Requirement already satisfied: cachetools<6.0,>=2.0.0 in /usr/local/lib/python3.10/dist-packages (from google-auth<3.0dev,>=1.25.0->google-cloud-storage) (5.3.2)\n",
            "Requirement already satisfied: pyasn1-modules>=0.2.1 in /usr/local/lib/python3.10/dist-packages (from google-auth<3.0dev,>=1.25.0->google-cloud-storage) (0.3.0)\n",
            "Requirement already satisfied: six>=1.9.0 in /usr/local/lib/python3.10/dist-packages (from google-auth<3.0dev,>=1.25.0->google-cloud-storage) (1.16.0)\n",
            "Requirement already satisfied: rsa<5,>=3.1.4 in /usr/local/lib/python3.10/dist-packages (from google-auth<3.0dev,>=1.25.0->google-cloud-storage) (4.9)\n",
            "Requirement already satisfied: google-crc32c<2.0dev,>=1.0 in /usr/local/lib/python3.10/dist-packages (from google-resumable-media>=2.3.2->google-cloud-storage) (1.5.0)\n",
            "Requirement already satisfied: charset-normalizer<4,>=2 in /usr/local/lib/python3.10/dist-packages (from requests<3.0.0dev,>=2.18.0->google-cloud-storage) (3.3.1)\n",
            "Requirement already satisfied: idna<4,>=2.5 in /usr/local/lib/python3.10/dist-packages (from requests<3.0.0dev,>=2.18.0->google-cloud-storage) (3.4)\n",
            "Requirement already satisfied: urllib3<3,>=1.21.1 in /usr/local/lib/python3.10/dist-packages (from requests<3.0.0dev,>=2.18.0->google-cloud-storage) (2.0.7)\n",
            "Requirement already satisfied: certifi>=2017.4.17 in /usr/local/lib/python3.10/dist-packages (from requests<3.0.0dev,>=2.18.0->google-cloud-storage) (2023.7.22)\n",
            "Requirement already satisfied: pyasn1<0.6.0,>=0.4.6 in /usr/local/lib/python3.10/dist-packages (from pyasn1-modules>=0.2.1->google-auth<3.0dev,>=1.25.0->google-cloud-storage) (0.5.0)\n",
            "Collecting pdf2image\n",
            "  Downloading pdf2image-1.16.3-py3-none-any.whl (11 kB)\n",
            "Requirement already satisfied: pillow in /usr/local/lib/python3.10/dist-packages (from pdf2image) (9.4.0)\n",
            "Installing collected packages: pdf2image\n",
            "Successfully installed pdf2image-1.16.3\n"
          ]
        }
      ]
    },
    {
      "cell_type": "code",
      "execution_count": null,
      "metadata": {
        "id": "LETr_DhNIZWq"
      },
      "outputs": [],
      "source": [
        "from flask import Flask, request, render_template\n",
        "from dotenv import load_dotenv\n",
        "import requests\n",
        "import os\n",
        "import openai\n",
        "from PIL import Image\n",
        "import pytesseract\n",
        "from pdf2image import convert_from_path\n",
        "from pdf2image.exceptions import PDFPageCountError\n",
        "import fitz\n",
        "from google.cloud import vision\n",
        "from google.cloud import vision_v1\n",
        "from google.cloud import storage\n",
        "from google.cloud import exceptions\n",
        "from datetime import datetime\n",
        "import io\n",
        "import json"
      ]
    },
    {
      "cell_type": "code",
      "source": [
        "# Set the path to your Google Cloud API credentials JSON file\n",
        "os.environ['GOOGLE_APPLICATION_CREDENTIALS'] = 'theprime-403711-64012ec4c27d.json'\n"
      ],
      "metadata": {
        "id": "KLsfB-J9IeEe"
      },
      "execution_count": null,
      "outputs": []
    },
    {
      "cell_type": "code",
      "source": [
        "# Initialize the Vision client\n",
        "client = vision_v1.ImageAnnotatorClient()\n"
      ],
      "metadata": {
        "id": "cSxvIy5SIhd1"
      },
      "execution_count": null,
      "outputs": []
    },
    {
      "cell_type": "code",
      "source": [
        "load_dotenv()  # Load environment variables from the .env file"
      ],
      "metadata": {
        "colab": {
          "base_uri": "https://localhost:8080/"
        },
        "id": "Qf7SwimYIkmR",
        "outputId": "18c9a8f6-5cb2-4acc-defc-c4a69d95325d"
      },
      "execution_count": null,
      "outputs": [
        {
          "output_type": "execute_result",
          "data": {
            "text/plain": [
              "True"
            ]
          },
          "metadata": {},
          "execution_count": 20
        }
      ]
    },
    {
      "cell_type": "code",
      "source": [
        "app = Flask(__name__)"
      ],
      "metadata": {
        "id": "_xhm26YuIom7"
      },
      "execution_count": null,
      "outputs": []
    },
    {
      "cell_type": "code",
      "source": [
        "# Helper function to get the last uploaded OCR JSON file\n",
        "def get_last_uploaded_blob(bucket, prefix):\n",
        "    blobs = list(bucket.list_blobs(prefix=prefix))\n",
        "    if blobs:\n",
        "        # Sort blobs by their updated time in descending order\n",
        "        blobs.sort(key=lambda x: x.updated, reverse=True)\n",
        "        return blobs[0]\n",
        "    else:\n",
        "        return None\n"
      ],
      "metadata": {
        "id": "z-p9LIHpIpQF"
      },
      "execution_count": null,
      "outputs": []
    },
    {
      "cell_type": "code",
      "source": [
        "\n",
        "#Detect Text in PDFs\n",
        "def async_detect_document(gcs_source_uri, gcs_destination_uri):\n",
        "    \"\"\"OCR with PDF/TIFF as source files on GCS\"\"\"\n",
        "\n",
        "    # Supported mime_types are: 'application/pdf' and 'image/tiff'\n",
        "    mime_type = \"application/pdf\"\n",
        "\n",
        "    #How many pages should be grouped into each json output file.\n",
        "    batch_size = 5\n",
        "\n",
        "    client = vision.ImageAnnotatorClient()\n",
        "\n",
        "    feature = vision.Feature(type_=vision.Feature.Type.DOCUMENT_TEXT_DETECTION)\n",
        "\n",
        "    gcs_source = vision.GcsSource(uri=gcs_source_uri)\n",
        "    input_config = vision.InputConfig(gcs_source=gcs_source, mime_type=mime_type)\n",
        "\n",
        "    gcs_destination = vision.GcsDestination(uri=gcs_destination_uri)\n",
        "    output_config = vision.OutputConfig(\n",
        "        gcs_destination=gcs_destination, batch_size=batch_size\n",
        "    )\n",
        "    async_request = vision.AsyncAnnotateFileRequest(\n",
        "        features=[feature], input_config=input_config, output_config=output_config\n",
        "    )\n",
        "\n",
        "    operation = client.async_batch_annotate_files(requests=[async_request])\n",
        "\n",
        "    print(\"Waiting for the operation to finish.\")\n",
        "    operation.result(timeout=300)\n",
        "\n",
        "    # Once the request has completed and the output has been\n",
        "    # written to GCS, we can list all the output files.\n",
        "    storage_client = storage.Client()\n",
        "\n",
        "    match = re.match(r\"gs://([^/]+)/(.+)\", gcs_destination_uri)\n",
        "    bucket_name = match.group(1)\n",
        "    prefix = match.group(2)\n",
        "\n",
        "    bucket = storage_client.get_bucket(bucket_name)\n",
        "\n",
        "    # List objects with the given prefix, filtering out folders.\n",
        "    blob_list = [\n",
        "        blob\n",
        "        for blob in list(bucket.list_blobs(prefix=prefix))\n",
        "        if not blob.name.endswith(\"/\")\n",
        "    ]\n",
        "    \"\"\" print(\"Output files:\")\n",
        "    for blob in blob_list:\n",
        "        print(blob.name)\n",
        " \"\"\"\n",
        "    all_text = []\n",
        "    # Process all output files from GCS.\n",
        "    for output in blob_list:\n",
        "        json_string = output.download_as_bytes().decode(\"utf-8\")\n",
        "        response = json.loads(json_string)\n",
        "\n",
        "        for page_response in response[\"responses\"]:\n",
        "            annotation = page_response[\"fullTextAnnotation\"]\n",
        "            full_text = annotation[\"text\"]\n",
        "            all_text.append(full_text)\n",
        "\n",
        "    print(\"Full text:\\n\")\n",
        "    return ''.join(all_text)\n"
      ],
      "metadata": {
        "id": "9GUIYA5rIqnw"
      },
      "execution_count": null,
      "outputs": []
    },
    {
      "cell_type": "code",
      "source": [
        "\n",
        "#Detecting Text in Images\n",
        "def detect_text(path):\n",
        "    \"\"\"Detects text in the file.\"\"\"\n",
        "\n",
        "\n",
        "    client = vision.ImageAnnotatorClient()\n",
        "\n",
        "    with open(path, \"rb\") as image_file:\n",
        "        content = image_file.read()\n",
        "\n",
        "    image = vision.Image(content=content)\n",
        "\n",
        "    response = client.text_detection(image=image)\n",
        "    texts = response.text_annotations\n",
        "    print(\"Texts:\")\n",
        "\n",
        "    for text in texts:\n",
        "        print(f'\\n\"{text.description}\"')\n",
        "\n",
        "        vertices = [\n",
        "            f\"({vertex.x},{vertex.y})\" for vertex in text.bounding_poly.vertices\n",
        "        ]\n",
        "\n",
        "        print(\"bounds: {}\".format(\",\".join(vertices)))\n",
        "\n",
        "    if response.error.message:\n",
        "        raise Exception(\n",
        "            \"{}\\nFor more info on error messages, check: \"\n",
        "            \"https://cloud.google.com/apis/design/errors\".format(response.error.message)\n",
        "        )\n",
        "\n",
        "def detect_text_uri(uri):\n",
        "    \"\"\"Detects text in the file located in Google Cloud Storage or on the Web.\"\"\"\n",
        "    from google.cloud import vision\n",
        "\n",
        "    client = vision.ImageAnnotatorClient()\n",
        "    image = vision.Image()\n",
        "    image.source.image_uri = uri\n",
        "\n",
        "    response = client.text_detection(image=image)\n",
        "    texts = response.text_annotations\n",
        "    print(\"Texts:\")\n",
        "\n",
        "    for text in texts:\n",
        "        print(f'\\n\"{text.description}\"')\n",
        "\n",
        "        vertices = [\n",
        "            f\"({vertex.x},{vertex.y})\" for vertex in text.bounding_poly.vertices\n",
        "        ]\n",
        "\n",
        "        print(\"bounds: {}\".format(\",\".join(vertices)))\n",
        "\n",
        "    if response.error.message:\n",
        "        raise Exception(\n",
        "            \"{}\\nFor more info on error messages, check: \"\n",
        "            \"https://cloud.google.com/apis/design/errors\".format(response.error.message)\n",
        "        )"
      ],
      "metadata": {
        "id": "QyFp-VleIuqU"
      },
      "execution_count": null,
      "outputs": []
    },
    {
      "cell_type": "code",
      "source": [
        "\n",
        "\n",
        "@app.route(\"/\", methods=[\"GET\", \"POST\"])\n",
        "def index():\n",
        "    if request.method == \"POST\":\n",
        "        VariableFind = request.form[\"name\"]\n",
        "        uploaded_file = request.files[\"file\"]\n",
        "\n",
        "        # Save the file to a location on your server\n",
        "        file_path = fr\"C:\\Users\\Monster\\Desktop\\scanpdf\\{uploaded_file.filename}\"\n",
        "\n",
        "        uploaded_file.save(file_path)\n",
        "\n",
        "        # Check the file extension to determine if it's a PDF\n",
        "        file_extension = uploaded_file.filename.split(\".\")[-1].lower()\n",
        "\n",
        "\n",
        "        if uploaded_file:\n",
        "            if file_extension == \"pdf\":\n",
        "                # Define the GCS paths for source and destination URIs\n",
        "                gcs_source_uri = f\"gs://theprime/{uploaded_file.filename}\"\n",
        "\n",
        "                # Get the list of blobs in the output folder\n",
        "                client = storage.Client()\n",
        "                bucket = client.bucket(\"theprime\")\n",
        "                blobs = list(bucket.list_blobs(prefix=\"output/\"))\n",
        "\n",
        "                # Determine the last uploaded file based on the order in blobs\n",
        "                if blobs := list(bucket.list_blobs(prefix=\"output/\")):\n",
        "                    last_uploaded_blob = get_last_uploaded_blob(bucket, \"output/\")\n",
        "                    if last_uploaded_blob:\n",
        "                        last_uploaded_filename = last_uploaded_blob.name\n",
        "                        # Use a consistent output filename in the \"output\" folder\n",
        "                        gcs_destination_uri = f\"gs://theprime/output/{uploaded_file.filename}.json\"\n",
        "\n",
        "                        # Upload the PDF to Google Cloud Storage\n",
        "                        blob = bucket.blob(f\"output/{uploaded_file.filename}\")\n",
        "                        blob.upload_from_filename(file_path)\n",
        "\n",
        "                        # Process the PDF asynchronously and get the extracted text\n",
        "                        text_extracted = async_detect_document(gcs_source_uri, gcs_destination_uri)\n",
        "                else:\n",
        "                    # Handle the case when no blobs are found in the \"output/\" folder\n",
        "                    print(\"No blobs found in the 'output/' folder.\")\n",
        "            else:\n",
        "                text_extracted = detect_text(file_path)\n",
        "\n",
        "\n",
        "\n",
        "            # Set your API key and the API endpoint\n",
        "            api_key = os.getenv(\"key\")\n",
        "            openai.api_key = api_key\n",
        "            api_endpoint = 'https://api.openai.com/v1/engines/gpt-3.5-turbo/completions'  # Endpoint for GPT-3\n",
        "\n",
        "            completion = openai.ChatCompletion.create(\n",
        "                model=\"gpt-3.5-turbo\",\n",
        "                messages=[\n",
        "                    {\"role\": \"user\", \"content\": f\"Give me the '{VariableFind}'from the provided context\"},\n",
        "                    {\"role\": \"assistant\", \"content\": str(text_extracted)}\n",
        "                ]\n",
        "            )\n",
        "            result = completion.choices[0].message\n",
        "            print(\"text extracted----------->\",str(text_extracted))\n",
        "            print(result)\n",
        "            return render_template(\"result.html\", result=result, VariableFind=VariableFind, uploaded_file=uploaded_file)\n",
        "\n",
        "    return render_template(\"form.html\")\n",
        "\n",
        "if __name__ == \"__main__\":\n",
        "    app.run(debug=True)\n"
      ],
      "metadata": {
        "colab": {
          "base_uri": "https://localhost:8080/"
        },
        "id": "RuWoiFFQIwfk",
        "outputId": "598c7d06-3c17-45ca-e2c2-cb67bbf956d3"
      },
      "execution_count": null,
      "outputs": [
        {
          "output_type": "stream",
          "name": "stdout",
          "text": [
            " * Serving Flask app '__main__'\n",
            " * Debug mode: on\n"
          ]
        },
        {
          "output_type": "stream",
          "name": "stderr",
          "text": [
            "INFO:werkzeug:\u001b[31m\u001b[1mWARNING: This is a development server. Do not use it in a production deployment. Use a production WSGI server instead.\u001b[0m\n",
            " * Running on http://127.0.0.1:5000\n",
            "INFO:werkzeug:\u001b[33mPress CTRL+C to quit\u001b[0m\n",
            "INFO:werkzeug: * Restarting with stat\n"
          ]
        }
      ]
    }
  ]
}